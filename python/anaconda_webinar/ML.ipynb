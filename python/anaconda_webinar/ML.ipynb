{
 "cells": [
  {
   "cell_type": "markdown",
   "metadata": {
    "colab_type": "text",
    "id": "lmlg6iuLRGOq",
    "slideshow": {
     "slide_type": "slide"
    }
   },
   "source": [
    "<img src=\"logo.png\" align=\"right\" width=\"40%\"/>\n",
    "\n",
    "# Machine Learning with Scikit-learn\n",
    "\n",
    "<b>David Mertz, Ph.D.<br/> Anaconda Inc</b>\n",
    "<br/>"
   ]
  },
  {
   "cell_type": "markdown",
   "metadata": {},
   "source": [
    "# About this Notebook\n",
    "\n",
    "What you are looking at now is a \"public deployment\" on Anaconda Enterprise.  It is a notebook—but a web application or dashboard can equally be published this way—that has been set to world readable (and world-executable, albeit without modifications to the code).\n",
    "\n",
    "Licensed users of [Anaconda Enterprise](https://www.anaconda.com/blog/developer-blog/anaconda-enterprise-features-expanded-gpu-container-usage/) can collaborate on development of projects, deploy them privately for a specific collection of users or user groups, target specific computational resources in their cluster, and schedule computational work utilized by projects.\n",
    "\n",
    "For this particular notebook that you can run, not a lot will change each time you run it.  A few of the models trained have a random seed that will produce somewhat different results across runs.  But in a real use, a cell of a notebook might, for example, pull in up-to-date data that is then analyzed and visualized within a Jupyter notebook like this."
   ]
  },
  {
   "cell_type": "markdown",
   "metadata": {
    "colab_type": "text",
    "id": "MDeKgDqYRGOr"
   },
   "source": [
    "# Who am I?"
   ]
  },
  {
   "cell_type": "markdown",
   "metadata": {
    "colab_type": "text",
    "id": "VCf07leKRGOs"
   },
   "source": [
    "*August 2018*\n",
    "\n",
    "David was a Director of the PSF for six years, and remains co-chair of its Trademarks Committee,  its Python-Cuba working group, and of the Scientific Python Working Group. Nowadays he is Senior Trainer and Senior Software Developer for Anaconda Inc.\n",
    "\n",
    "He wrote the columns, _Charming Python_ and _XML Matters_ for IBM developerWorks, short books for O'Reilly, and the Addison-Wesley book _Text Processing in Python_, has spoken at multiple OSCon's,  PyCon's, and at AnacondaCon, and was invited keynote speaker at PyCon-India, PyCon-UK, PyCon-ZA, PyCon Belarus, PyCon Cuba, and PyData SF.\n",
    "\n",
    "Before Anaconda, David worked for 8 years with the folks (D. E. Shaw Research) who have built the world's fastest, highly-specialized (down to the ASICs and network layer), supercomputer for performing molecular dynamics.  He is pleased to find Python has become the default high-level language for most scientific computing projects.\n",
    "\n",
    "The latest version of this blurb will stay in a [Gist](https://gist.github.com/DavidMertz/e889b5d56008eb897cf9af73510c1901)."
   ]
  },
  {
   "cell_type": "markdown",
   "metadata": {
    "colab_type": "text",
    "id": "9QdJeJnHRGOs"
   },
   "source": [
    "---"
   ]
  },
  {
   "cell_type": "markdown",
   "metadata": {
    "colab_type": "text",
    "id": "KAkXO_n0RGOu"
   },
   "source": [
    "# What is Anaconda?"
   ]
  },
  {
   "cell_type": "markdown",
   "metadata": {
    "colab_type": "text",
    "id": "CbRpDwITRGOu"
   },
   "source": [
    "Anaconda Inc is known as the creator of the Anaconda Distribution, Anaconda Enterprise, and as contributor or main sponsor of open source projects (some listed below): \n",
    "\n",
    "**Anaconda Distribution**\n",
    "\n",
    "> With over 6 million users, the open source Anaconda Distribution is the fastest and easiest way to do Python and R data science and machine learning on Linux, Windows, and Mac OS X. It's the industry standard for developing, testing, and training on a single machine.\n",
    "\n",
    "**Anaconda Enterprise**\n",
    "\n",
    "> Anaconda Enterprise is an AI/ML enablement platform that empowers organizations to develop, govern, and automate AI/ML and data science from laptop through training to production. It lets organizations scale from individual data scientists to collaborative teams of thousands, and to go from a single server to thousands of nodes for model training and deployment.\n",
    "\n",
    "**Open Source Projects**\n",
    "\n",
    "* *[Conda](https://conda.io/docs/)*\n",
    "* *[Dask](https://dask.pydata.org/en/latest/)*\n",
    "* *[Dask-ML](https://dask-ml.readthedocs.io/en/latest/)*\n",
    "* *[Numba](https://numba.pydata.org/)*\n",
    "* *[Bokeh](https://bokeh.pydata.org/en/latest/)*\n",
    "* *[DataShader](http://datashader.org/)*\n",
    "* *[Intake](https://intake.readthedocs.io/en/latest/quickstart.html)*\n",
    "* *[HoloViews](http://holoviews.org/)*\n",
    "* *[PyViz](http://pyviz.org/)*"
   ]
  },
  {
   "cell_type": "markdown",
   "metadata": {
    "colab_type": "text",
    "id": "SJ-bCcTIRGOv"
   },
   "source": [
    "---"
   ]
  },
  {
   "cell_type": "markdown",
   "metadata": {
    "colab_type": "text",
    "id": "AfVB1cwhRGOv"
   },
   "source": [
    "# What is *scikit-learn*?"
   ]
  },
  {
   "cell_type": "markdown",
   "metadata": {
    "colab_type": "text",
    "id": "yVSj34unRGOv"
   },
   "source": [
    "Scikit-learn provides a large range of algorithms in machine learning that are unified under a common and intuitive API.  Most of the dozens of classes provided for various kinds of models share the large majority of the same calling interface.  Very often—as we will see in examples below—you can easily substitute one algorithm for another with nearly no change in your underlying code.  This allows you to explore the problem space quickly, and often arrive at an optimal, or at least *satisficing* approach to your problem domain or datasets.\n",
    "\n",
    "* Simple and efficient tools for data mining and data analysis\n",
    "* Accessible to everybody, and reusable in various contexts\n",
    "* Built on *NumPy*, *SciPy*, and *matplotlib*\n",
    "* Open source, commercially usable - BSD license"
   ]
  },
  {
   "cell_type": "markdown",
   "metadata": {
    "colab_type": "text",
    "id": "SV0q2IU3RGOw"
   },
   "source": [
    "---"
   ]
  },
  {
   "cell_type": "markdown",
   "metadata": {
    "colab_type": "text",
    "id": "VOeBs1kCRGOx"
   },
   "source": [
    "# What is Machine Learning?"
   ]
  },
  {
   "cell_type": "markdown",
   "metadata": {
    "colab_type": "text",
    "id": "QF3juyp0RGOz"
   },
   "source": [
    "According to Wikipedia on [16:57, 4 August 2018](https://en.wikipedia.org/w/index.php?title=Machine_learning&oldid=853415971)"
   ]
  },
  {
   "cell_type": "markdown",
   "metadata": {
    "colab_type": "text",
    "id": "pTsw7JO3RGOz"
   },
   "source": [
    "<img src=\"Wikipedia-ML.png\" width=\"85%\" align=\"left\"/>"
   ]
  },
  {
   "cell_type": "markdown",
   "metadata": {
    "colab_type": "text",
    "id": "_mAXOWi4RGO0"
   },
   "source": [
    "---"
   ]
  },
  {
   "cell_type": "markdown",
   "metadata": {
    "colab_type": "text",
    "id": "XdYqkKqjRGO1"
   },
   "source": [
    "## Difference between \"Deep Learning\" and other ML techniques"
   ]
  },
  {
   "cell_type": "markdown",
   "metadata": {
    "colab_type": "text",
    "id": "5RhMoejtRGO1"
   },
   "source": [
    "### Neural Networks"
   ]
  },
  {
   "cell_type": "markdown",
   "metadata": {
    "colab_type": "text",
    "id": "qVq8uprHRGO1"
   },
   "source": [
    "<img src=\"Simple-NN.png\" width=\"33%\" align=\"right\"/>\n",
    "The basic idea of a \"multilayer perceptron\" is a \"feed-forward\" artificial neural network, composed of \"neurons\" arranged in \"layers.\"  A common illustration is similar to that at right.  This idea of \"Hebbian networks\" has existed since the 1940s, but it really only became a machine learning technique with Paul Werbos' 1975 introduction of \"backpropagation\" as a means to train such networks.  Either way, the ideas are fairly old.\n",
    "\n",
    "Included in diagram is a network with 4 layers and 12 connections (i.e. \"parameters\").  If it were \"fully connected\" the diagram would have 16 parameters. What makes a particular trained network special is the set of \"weights\" in the connections, illustrated and commonly named as subscripted $w$ values.\n",
    "\n",
    "For many decades after neural networks were known, they remained a minor area of interest.  Usually a variety of other techniques rooted in statistics and linear algebra were more effective in solving problems of classification, regression, and clustering.\n",
    "\n",
    "Image credit: [\"Feedforward Neural Networks\", John McGonagle and yushi 21](https://brilliant.org/wiki/feedforward-neural-networks/)"
   ]
  },
  {
   "cell_type": "markdown",
   "metadata": {
    "colab_type": "text",
    "id": "ymGgaQX2RGO2"
   },
   "source": [
    "---"
   ]
  },
  {
   "cell_type": "markdown",
   "metadata": {
    "colab_type": "text",
    "id": "yr0DGqahRGO3"
   },
   "source": [
    "### \"Deep\" really just means much larger..."
   ]
  },
  {
   "cell_type": "markdown",
   "metadata": {
    "colab_type": "text",
    "id": "rC7RiKfJRGO4"
   },
   "source": [
    "In the last decade or less, neural networks—mathematically not much different from those described in the 1940s—grew much larger.  For example, the extremely power Inception v3 image classifier consists of approximately 23.8 million parameters across about 140 layers.  Layers generally each have many more neurons than the half-dozen or fewer shown in textbook illustrations like the one shown above.  Scikit-learn has basic neural network techniques, but their use is mostly for the uses that made sense more than five years ago.\n",
    "\n",
    "Classic \"fully connected\" layers make up only a small number of those used. More than anything else, the effect and reason for this is to limit the combinatorial explosion of connections, limiting the parameters to **only** 24 million. \n",
    "<img src=\"inceptionv3.png\"/>\n",
    "Image credit: [\"Advanced Guide to Inception v3 on Cloud TPU\" (Google)](https://cloud.google.com/tpu/docs/inception-v3-advanced)"
   ]
  },
  {
   "cell_type": "markdown",
   "metadata": {
    "colab_type": "text",
    "id": "Pst-Db_hRGO4"
   },
   "source": [
    "---"
   ]
  },
  {
   "cell_type": "markdown",
   "metadata": {
    "colab_type": "text",
    "id": "MKbDifnhRGO4"
   },
   "source": [
    "## Other tools used for deep learning and computational requirements (GPU, etc)"
   ]
  },
  {
   "cell_type": "markdown",
   "metadata": {
    "colab_type": "text",
    "id": "nAlcV_P-RGO5"
   },
   "source": [
    "Training modern deep neural networks requires large clusters of machines, ideally consisting of high-performance GPUs or even more specialized hardware like Google's Tensor Processing Unit (TPU).  Competitive designs are impractical—or at least time consuming—to train on ordinary desktop systems or single servers.  Evaluating a trained model is much cheaper, however, and running a classifier on ordinary higher-end CPUs is perfectly fine.\n",
    "\n",
    "In contrast, the machine learning algorithms provided by Scikit-learn are generally easily trainable on ordinary computers, albeit not always entirely fast to train on typical machines.\n",
    "\n",
    "Some popular tools for programming deep neural networks include the below.  Python dominates in this space.\n",
    "\n",
    "For Python: \n",
    "* Tensorflow\n",
    "* Theano\n",
    "* Keras\n",
    "* Chainer\n",
    "* PyTorch\n",
    "\n",
    "For other programming languages: \n",
    "* Torch\n",
    "* Cafe2\n",
    "* Microsoft Cognitive Toolkit (CNTK)\n",
    "* Deep Learning 4J\n",
    "* Apache MXnet"
   ]
  },
  {
   "cell_type": "markdown",
   "metadata": {
    "colab_type": "text",
    "id": "KhD7GS17RGO7"
   },
   "source": [
    "---"
   ]
  },
  {
   "cell_type": "markdown",
   "metadata": {
    "colab_type": "text",
    "id": "k0_KUt3ZRGO7"
   },
   "source": [
    "# Techniques "
   ]
  },
  {
   "cell_type": "markdown",
   "metadata": {
    "colab_type": "text",
    "id": "vp2tVu4fRGO9"
   },
   "source": [
    "<img alt=\"Classification versus regression\" src=\"http://scikit-learn.org/stable/_static/ml_map.png\" width=\"80%\"/>"
   ]
  },
  {
   "cell_type": "markdown",
   "metadata": {
    "colab_type": "text",
    "id": "IqR4Se41RGO9"
   },
   "source": [
    "---"
   ]
  },
  {
   "cell_type": "markdown",
   "metadata": {
    "colab_type": "text",
    "id": "3tVxETF1RGO-"
   },
   "source": [
    "> **\"If you torture the data enough, nature will always confess.\"** –Ronald Coase"
   ]
  },
  {
   "cell_type": "markdown",
   "metadata": {
    "colab_type": "text",
    "id": "NXZ3ku_URGO_"
   },
   "source": [
    "## Classification"
   ]
  },
  {
   "cell_type": "markdown",
   "metadata": {
    "colab_type": "text",
    "id": "OSm8XfFERGO_"
   },
   "source": [
    "Classification is a type of *supervised* learning in which the targets for a prediction are a set of categorical values."
   ]
  },
  {
   "cell_type": "markdown",
   "metadata": {
    "colab_type": "text",
    "id": "t6-n5eKuRGPA"
   },
   "source": [
    "## Regression"
   ]
  },
  {
   "cell_type": "markdown",
   "metadata": {
    "colab_type": "text",
    "id": "seERGqinRGPA"
   },
   "source": [
    "Regression is a type of *supervised* learning in which the targets for a prediction are quantitative or continuous values."
   ]
  },
  {
   "cell_type": "markdown",
   "metadata": {
    "colab_type": "text",
    "id": "JUjhw2qbRGPB"
   },
   "source": [
    "## Clustering"
   ]
  },
  {
   "cell_type": "markdown",
   "metadata": {
    "colab_type": "text",
    "id": "9a0RyKaYRGPB"
   },
   "source": [
    "Clustering is a type of *unsupervised* learning where you want to identify similarities among collections of items without an *a prior* classification scheme.  You may or may not have an *a priori* about the **number** of categories."
   ]
  },
  {
   "cell_type": "markdown",
   "metadata": {
    "colab_type": "text",
    "id": "zkzpqMleRGPC"
   },
   "source": [
    "## Dimensionality Reduction"
   ]
  },
  {
   "cell_type": "markdown",
   "metadata": {
    "colab_type": "text",
    "id": "0MLcS29aRGPD"
   },
   "source": [
    "Dimensionality reduction is most often a technique used to assist with other techniques.  By reducing a large number of features to relatively few features; very often other techniques are more successful relative to these transformed synthetic features.  Sometimes the dimensionality reduction itself is sufficient to identify the \"main gist\" or your data."
   ]
  },
  {
   "cell_type": "markdown",
   "metadata": {
    "colab_type": "text",
    "id": "N8BNwmBuRGPE"
   },
   "source": [
    "---"
   ]
  },
  {
   "cell_type": "markdown",
   "metadata": {
    "colab_type": "text",
    "id": "xZi4aZs6RGPE"
   },
   "source": [
    "# More Techniques"
   ]
  },
  {
   "cell_type": "markdown",
   "metadata": {
    "colab_type": "text",
    "id": "_xhia1TaRGPF"
   },
   "source": [
    "While the four techniques listed above are usually your ultimate goal in a machine learning design, some background concepts and/or techniques are often invaluable in getting there."
   ]
  },
  {
   "cell_type": "markdown",
   "metadata": {
    "colab_type": "text",
    "id": "QM77-T2hRGPG"
   },
   "source": [
    "## Feature Engineering"
   ]
  },
  {
   "cell_type": "markdown",
   "metadata": {
    "colab_type": "text",
    "id": "QHUuB-cvRGPG"
   },
   "source": [
    "Very often, the \"features\" we are given in our original data are not those that will prove most useful in our final analysis.  It is often necessary to identify \"the data inside the data.\"  Sometimes feature engineering can be as simple as normalizing the distribution of values.  Other times it can involve creating synthetic features out of two or more raw features."
   ]
  },
  {
   "cell_type": "markdown",
   "metadata": {
    "colab_type": "text",
    "id": "XDsEN72eRGPJ"
   },
   "source": [
    "## Feature Selection"
   ]
  },
  {
   "cell_type": "markdown",
   "metadata": {
    "colab_type": "text",
    "id": "eIBm6vhpRGPL"
   },
   "source": [
    "Often, the features you have in your raw data contain some features with little to no predictive or analytic value.  Identifying and excluding irrelevant features often improves the quality of a model."
   ]
  },
  {
   "cell_type": "markdown",
   "metadata": {
    "colab_type": "text",
    "id": "oq3mJTWBRGPL"
   },
   "source": [
    "## Categorical vs. Ordinal vs. Continuous variables"
   ]
  },
  {
   "cell_type": "markdown",
   "metadata": {
    "colab_type": "text",
    "id": "WT0Jfl2xRGPL"
   },
   "source": [
    "Features come in one of three basic types.  \n",
    "\n",
    "Some are *categorical* (also called *nominal*): A discrete set of values that a feature may assume, often named by words or codes (but sometimes confusingly as integers where an order may be misleadingly implied).  \n",
    "\n",
    "Some are *ordinal*: There is a scale from low to high in the data values, but the spacing in the data may have little to no relationship to the underlying phenomenon.  For example, while an airline or credit card \"reward program\" might have levels of Gold/Silver/Platinum/Diamond, there is probably no real sense in which Diamond is \"4 times as much\" as Gold, even though they are encoded as 1-4.\n",
    "\n",
    "Some are *continuous* or *quantitative*: Some quantity is actually measured such that a number represents the amount of it.  The *distribution* of these measurements is likely not to be uniform and linear (in which case scaling might be relevant), but there is a real thing being measured.  Measurements might be quantized for continuous variables, but that does not necessarily make them ordinal instead.  For example, we might measure annual rainfall in each town only to the nearest inch, and hence have integers for that feature."
   ]
  },
  {
   "cell_type": "markdown",
   "metadata": {
    "colab_type": "text",
    "id": "DyEOXTsORGPL"
   },
   "source": [
    "---"
   ]
  },
  {
   "cell_type": "markdown",
   "metadata": {
    "colab_type": "text",
    "id": "mpq6b8_0RGPN"
   },
   "source": [
    "# Yet more techniques"
   ]
  },
  {
   "cell_type": "markdown",
   "metadata": {
    "colab_type": "text",
    "id": "6fyvHpw7RGPO"
   },
   "source": [
    "Most of the concepts just discussed apply to statistics more generally.  The next few concepts are more specific to *machine* learning."
   ]
  },
  {
   "cell_type": "markdown",
   "metadata": {
    "colab_type": "text",
    "id": "J4QIU1BfRGPO"
   },
   "source": [
    "## One-hot encoding"
   ]
  },
  {
   "cell_type": "markdown",
   "metadata": {
    "colab_type": "text",
    "id": "BQqJBEa_RGPQ"
   },
   "source": [
    "For many machine learning algorithms, including neural networks, it is more useful to have a categorical feature with N possible values encoded as N features, each taking a binary value.  Several tools, including a couple functions in *scikit-learn* will transform raw datasets into this format.  Obviously, by encoding this way, dimensionality is increased."
   ]
  },
  {
   "cell_type": "markdown",
   "metadata": {
    "colab_type": "text",
    "id": "kxp4iA_ARGPR"
   },
   "source": [
    "## Hyperparameters"
   ]
  },
  {
   "cell_type": "markdown",
   "metadata": {
    "colab_type": "text",
    "id": "DaZ4EBIlRGPS"
   },
   "source": [
    "The notion of *parameters* was introduced to define the way in which a model was trained.  For neural networks, parameters are the weights of all the connections between the neurons.  But in other models a similar parameterization exists.  For example, in a basic linear regression, the coefficients in each dimension are parameters of the trained/fitted model.\n",
    "\n",
    "However, many algorithms used in machine learning take \"hyperparameters\" that tune how the training itself occurs.  These may be cutoff values where a \"good enough\" estimate is obtained, for example.  Or there may be hidden terms in an underlying equation that can be set.  Or an algorithm may actually be a family of closely related algorithms, and a hyperparameter chooses among them.  Models in *scikit-learn* typically have a number of hyperparameters to set before they are trained (with \"sensible\" defaults when you do not specify)."
   ]
  },
  {
   "cell_type": "markdown",
   "metadata": {
    "colab_type": "text",
    "id": "qdzZNbzXRGPT"
   },
   "source": [
    "## Grid Search"
   ]
  },
  {
   "cell_type": "markdown",
   "metadata": {
    "colab_type": "text",
    "id": "Rxy0o3UwRGPT"
   },
   "source": [
    "While *scikit-learn* usually provides \"sensible\" defaults for hyperparameters, there is often a great deal of domain and dataset specificity for which hyperparameters are most effective.  An API is provided to search across the combinatorial space of hyperparameter values and evaluate each collection."
   ]
  },
  {
   "cell_type": "markdown",
   "metadata": {
    "colab_type": "text",
    "id": "G8Fmysn_RGPU"
   },
   "source": [
    "---"
   ]
  },
  {
   "cell_type": "markdown",
   "metadata": {
    "colab_type": "text",
    "id": "07lVX0UnRGPV"
   },
   "source": [
    "# Example: Machines Learning About Humans Learning About Machine Learning"
   ]
  },
  {
   "cell_type": "markdown",
   "metadata": {
    "colab_type": "text",
    "id": "roYqDCoIRGPX",
    "slideshow": {
     "slide_type": "slide"
    }
   },
   "source": [
    "I had the great honor and pleasure of presenting the first tutorial at [AnacondaCON 2018](https://anacondacon.io/), on machine learning with scikit-learn.  I spoke to a full room of about 120 enthusiastic, and aspiring, data scientists.  \n",
    "\n",
    "The attendees of my session were a very nice group of learners and experts.  But I decided I wanted to know even more about these people than I could find by looking at their faces and responding to their questions.  So I asked them to complete a slightly whimsical form at about 3 hours into my tutorial.  Just who are these people, and what can scikit-learn tell us about which of them benefitted most from the tutorial?\n",
    "\n",
    "In the interest open data science, the collection of answers given by attendees is available under a [CC-BY-SA 4.0](https://creativecommons.org/licenses/by-sa/4.0/legalcode) license.  Please credit it as \"&copy; Anaconda Inc. 2018\" if you use the anonymized data, [available as a CSV file](https://goo.gl/WgTQMX).  If you wish to code along with the rest of this notebook, save it locally as `Learning about Humans learning ML.csv` (or adjust your code as needed).\n",
    "\n",
    "The attendees of this webinar, or those later viewing this notebook, are well described as:\n",
    "\n",
    "> **\"Humans learning about machines learning about humans learning about machine learning.\"**"
   ]
  },
  {
   "cell_type": "markdown",
   "metadata": {
    "colab_type": "text",
    "id": "FKZswiecRGPX"
   },
   "source": [
    "---"
   ]
  },
  {
   "cell_type": "markdown",
   "metadata": {
    "colab_type": "text",
    "id": "vaas82k4RGPX"
   },
   "source": [
    "## The whimsical dataset"
   ]
  },
  {
   "cell_type": "markdown",
   "metadata": {
    "colab_type": "text",
    "id": "KF9kNA6XRGPY"
   },
   "source": [
    "Data never arrives at the workstation of a data scientist quite clean, no matter how much validation is attempted in the collection process.  The respondent data is no exception.  Using the familiar facilities in Pandas, we can improve the initial data before applying scikit-learn to it.  In particular, I failed to validate the field \"`Years of post-secondary education (e.g. BA=4; Ph.D.=10)`\" as a required integer.  Also, the \"`Timestamps`\" added by the form interface are gratuitous for these purposes—they are all within a couple minutes of each other, but the order or spacing is unlikely to have any value to our models."
   ]
  },
  {
   "cell_type": "code",
   "execution_count": 1,
   "metadata": {
    "colab": {},
    "colab_type": "code",
    "id": "trDVykQQRGPZ"
   },
   "outputs": [],
   "source": [
    "import pandas as pd\n",
    "import warnings\n",
    "warnings.simplefilter(\"ignore\")"
   ]
  },
  {
   "cell_type": "code",
   "execution_count": 2,
   "metadata": {
    "colab": {},
    "colab_type": "code",
    "id": "YQovH3bzRGPf"
   },
   "outputs": [],
   "source": [
    "fname = \"Learning about Humans learning ML.csv\"\n",
    "humans = pd.read_csv(fname)\n",
    "\n",
    "humans.drop('Timestamp', axis=1, inplace=True)\n",
    "humans['Education'] = (humans[\n",
    "    'Years of post-secondary education (e.g. BA=4; Ph.D.=10)']\n",
    "                       .str.replace(r'.*=','')\n",
    "                       .astype(int))\n",
    "humans.drop('Years of post-secondary education (e.g. BA=4; Ph.D.=10)', \n",
    "            axis=1, inplace=True)"
   ]
  },
  {
   "cell_type": "markdown",
   "metadata": {
    "colab_type": "text",
    "id": "tSRu_AYTRGPg"
   },
   "source": [
    "---"
   ]
  },
  {
   "cell_type": "markdown",
   "metadata": {
    "colab_type": "text",
    "id": "KsI_E0WnRGPh"
   },
   "source": [
    "## Eyballing data"
   ]
  },
  {
   "cell_type": "markdown",
   "metadata": {
    "colab_type": "text",
    "id": "xSBrVk4WRGPi"
   },
   "source": [
    "When you read a dataset, it is almost always useful to take a quick look at part of it to get a \"feel\" for the data.  If the dataset can be read as a Pandas DataFrame, overview inspection is particularly easy and friendly.\n",
    "\n",
    "> **\"90% of the time spent doing data analysis is doing data cleanup.\"** –Every Data Scientist"
   ]
  },
  {
   "cell_type": "code",
   "execution_count": 3,
   "metadata": {
    "colab": {},
    "colab_type": "code",
    "id": "kPvyoiBZRGPj",
    "outputId": "eb054dca-7fd6-4886-80a3-383ef310b461"
   },
   "outputs": [
    {
     "data": {
      "text/html": [
       "<div>\n",
       "<style>\n",
       "    .dataframe thead tr:only-child th {\n",
       "        text-align: right;\n",
       "    }\n",
       "\n",
       "    .dataframe thead th {\n",
       "        text-align: left;\n",
       "    }\n",
       "\n",
       "    .dataframe tbody tr th {\n",
       "        vertical-align: top;\n",
       "    }\n",
       "</style>\n",
       "<table border=\"1\" class=\"dataframe\">\n",
       "  <thead>\n",
       "    <tr style=\"text-align: right;\">\n",
       "      <th></th>\n",
       "      <th>Favorite programming language</th>\n",
       "      <th>Favorite Monty Python movie</th>\n",
       "      <th>Years of Python experience</th>\n",
       "      <th>Have used Scikit-learn</th>\n",
       "      <th>Age</th>\n",
       "      <th>In the Terminator franchise, did you root for the humans or the machines?</th>\n",
       "      <th>Which is the better game?</th>\n",
       "      <th>How successful has this tutorial been so far?</th>\n",
       "      <th>Education</th>\n",
       "    </tr>\n",
       "  </thead>\n",
       "  <tbody>\n",
       "    <tr>\n",
       "      <th>0</th>\n",
       "      <td>Python</td>\n",
       "      <td>Monty Python's Life of Brian</td>\n",
       "      <td>20.0</td>\n",
       "      <td>Yep!</td>\n",
       "      <td>53</td>\n",
       "      <td>Skynet is a WINNER!</td>\n",
       "      <td>Tic-tac-toe (Br. Eng. \"noughts and crosses\")</td>\n",
       "      <td>8</td>\n",
       "      <td>12</td>\n",
       "    </tr>\n",
       "    <tr>\n",
       "      <th>1</th>\n",
       "      <td>Python</td>\n",
       "      <td>Monty Python and the Holy Grail</td>\n",
       "      <td>4.0</td>\n",
       "      <td>Yep!</td>\n",
       "      <td>33</td>\n",
       "      <td>Team Humans!</td>\n",
       "      <td>Chess</td>\n",
       "      <td>9</td>\n",
       "      <td>5</td>\n",
       "    </tr>\n",
       "    <tr>\n",
       "      <th>2</th>\n",
       "      <td>Python</td>\n",
       "      <td>Monty Python and the Holy Grail</td>\n",
       "      <td>1.0</td>\n",
       "      <td>Yep!</td>\n",
       "      <td>31</td>\n",
       "      <td>Team Humans!</td>\n",
       "      <td>Chess</td>\n",
       "      <td>10</td>\n",
       "      <td>10</td>\n",
       "    </tr>\n",
       "    <tr>\n",
       "      <th>3</th>\n",
       "      <td>Python</td>\n",
       "      <td>Monty Python and the Holy Grail</td>\n",
       "      <td>12.0</td>\n",
       "      <td>Yep!</td>\n",
       "      <td>60</td>\n",
       "      <td>Team Humans!</td>\n",
       "      <td>Tic-tac-toe (Br. Eng. \"noughts and crosses\")</td>\n",
       "      <td>6</td>\n",
       "      <td>10</td>\n",
       "    </tr>\n",
       "  </tbody>\n",
       "</table>\n",
       "</div>"
      ],
      "text/plain": [
       "  Favorite programming language      Favorite Monty Python movie  \\\n",
       "0                        Python     Monty Python's Life of Brian   \n",
       "1                        Python  Monty Python and the Holy Grail   \n",
       "2                        Python  Monty Python and the Holy Grail   \n",
       "3                        Python  Monty Python and the Holy Grail   \n",
       "\n",
       "   Years of Python experience Have used Scikit-learn  Age  \\\n",
       "0                        20.0                   Yep!   53   \n",
       "1                         4.0                   Yep!   33   \n",
       "2                         1.0                   Yep!   31   \n",
       "3                        12.0                   Yep!   60   \n",
       "\n",
       "  In the Terminator franchise, did you root for the humans or the machines?  \\\n",
       "0                                Skynet is a WINNER!                          \n",
       "1                                       Team Humans!                          \n",
       "2                                       Team Humans!                          \n",
       "3                                       Team Humans!                          \n",
       "\n",
       "                      Which is the better game?  \\\n",
       "0  Tic-tac-toe (Br. Eng. \"noughts and crosses\")   \n",
       "1                                         Chess   \n",
       "2                                         Chess   \n",
       "3  Tic-tac-toe (Br. Eng. \"noughts and crosses\")   \n",
       "\n",
       "   How successful has this tutorial been so far?  Education  \n",
       "0                                              8         12  \n",
       "1                                              9          5  \n",
       "2                                             10         10  \n",
       "3                                              6         10  "
      ]
     },
     "execution_count": 3,
     "metadata": {},
     "output_type": "execute_result"
    }
   ],
   "source": [
    "humans.head(4)"
   ]
  },
  {
   "cell_type": "markdown",
   "metadata": {
    "colab_type": "text",
    "id": "pb4_Vo-mRGPo"
   },
   "source": [
    "---"
   ]
  },
  {
   "cell_type": "markdown",
   "metadata": {
    "colab_type": "text",
    "id": "NZscz5KXRGPp"
   },
   "source": [
    "In terms of metadata *about* the dataset:"
   ]
  },
  {
   "cell_type": "code",
   "execution_count": 4,
   "metadata": {
    "colab": {},
    "colab_type": "code",
    "id": "DsC2FnZWRGPs",
    "outputId": "bde3299b-dced-4978-ee57-5515e13100e6"
   },
   "outputs": [
    {
     "data": {
      "text/html": [
       "<div>\n",
       "<style>\n",
       "    .dataframe thead tr:only-child th {\n",
       "        text-align: right;\n",
       "    }\n",
       "\n",
       "    .dataframe thead th {\n",
       "        text-align: left;\n",
       "    }\n",
       "\n",
       "    .dataframe tbody tr th {\n",
       "        vertical-align: top;\n",
       "    }\n",
       "</style>\n",
       "<table border=\"1\" class=\"dataframe\">\n",
       "  <thead>\n",
       "    <tr style=\"text-align: right;\">\n",
       "      <th></th>\n",
       "      <th>Favorite programming language</th>\n",
       "      <th>Favorite Monty Python movie</th>\n",
       "      <th>Years of Python experience</th>\n",
       "      <th>Have used Scikit-learn</th>\n",
       "      <th>Age</th>\n",
       "      <th>In the Terminator franchise, did you root for the humans or the machines?</th>\n",
       "      <th>Which is the better game?</th>\n",
       "      <th>How successful has this tutorial been so far?</th>\n",
       "      <th>Education</th>\n",
       "    </tr>\n",
       "  </thead>\n",
       "  <tbody>\n",
       "    <tr>\n",
       "      <th>count</th>\n",
       "      <td>116</td>\n",
       "      <td>116</td>\n",
       "      <td>116.000000</td>\n",
       "      <td>116</td>\n",
       "      <td>116.000000</td>\n",
       "      <td>116</td>\n",
       "      <td>116</td>\n",
       "      <td>116.000000</td>\n",
       "      <td>116.000000</td>\n",
       "    </tr>\n",
       "    <tr>\n",
       "      <th>unique</th>\n",
       "      <td>7</td>\n",
       "      <td>6</td>\n",
       "      <td>NaN</td>\n",
       "      <td>2</td>\n",
       "      <td>NaN</td>\n",
       "      <td>2</td>\n",
       "      <td>4</td>\n",
       "      <td>NaN</td>\n",
       "      <td>NaN</td>\n",
       "    </tr>\n",
       "    <tr>\n",
       "      <th>top</th>\n",
       "      <td>Python</td>\n",
       "      <td>Monty Python and the Holy Grail</td>\n",
       "      <td>NaN</td>\n",
       "      <td>Yep!</td>\n",
       "      <td>NaN</td>\n",
       "      <td>Team Humans!</td>\n",
       "      <td>Chess</td>\n",
       "      <td>NaN</td>\n",
       "      <td>NaN</td>\n",
       "    </tr>\n",
       "    <tr>\n",
       "      <th>freq</th>\n",
       "      <td>94</td>\n",
       "      <td>57</td>\n",
       "      <td>NaN</td>\n",
       "      <td>80</td>\n",
       "      <td>NaN</td>\n",
       "      <td>88</td>\n",
       "      <td>69</td>\n",
       "      <td>NaN</td>\n",
       "      <td>NaN</td>\n",
       "    </tr>\n",
       "    <tr>\n",
       "      <th>mean</th>\n",
       "      <td>NaN</td>\n",
       "      <td>NaN</td>\n",
       "      <td>4.195690</td>\n",
       "      <td>NaN</td>\n",
       "      <td>36.586207</td>\n",
       "      <td>NaN</td>\n",
       "      <td>NaN</td>\n",
       "      <td>7.051724</td>\n",
       "      <td>6.172414</td>\n",
       "    </tr>\n",
       "    <tr>\n",
       "      <th>std</th>\n",
       "      <td>NaN</td>\n",
       "      <td>NaN</td>\n",
       "      <td>5.136187</td>\n",
       "      <td>NaN</td>\n",
       "      <td>13.260644</td>\n",
       "      <td>NaN</td>\n",
       "      <td>NaN</td>\n",
       "      <td>2.229622</td>\n",
       "      <td>3.467303</td>\n",
       "    </tr>\n",
       "    <tr>\n",
       "      <th>min</th>\n",
       "      <td>NaN</td>\n",
       "      <td>NaN</td>\n",
       "      <td>0.000000</td>\n",
       "      <td>NaN</td>\n",
       "      <td>3.000000</td>\n",
       "      <td>NaN</td>\n",
       "      <td>NaN</td>\n",
       "      <td>1.000000</td>\n",
       "      <td>-10.000000</td>\n",
       "    </tr>\n",
       "    <tr>\n",
       "      <th>25%</th>\n",
       "      <td>NaN</td>\n",
       "      <td>NaN</td>\n",
       "      <td>1.000000</td>\n",
       "      <td>NaN</td>\n",
       "      <td>28.000000</td>\n",
       "      <td>NaN</td>\n",
       "      <td>NaN</td>\n",
       "      <td>5.000000</td>\n",
       "      <td>4.000000</td>\n",
       "    </tr>\n",
       "    <tr>\n",
       "      <th>50%</th>\n",
       "      <td>NaN</td>\n",
       "      <td>NaN</td>\n",
       "      <td>3.000000</td>\n",
       "      <td>NaN</td>\n",
       "      <td>34.000000</td>\n",
       "      <td>NaN</td>\n",
       "      <td>NaN</td>\n",
       "      <td>8.000000</td>\n",
       "      <td>6.000000</td>\n",
       "    </tr>\n",
       "    <tr>\n",
       "      <th>75%</th>\n",
       "      <td>NaN</td>\n",
       "      <td>NaN</td>\n",
       "      <td>5.000000</td>\n",
       "      <td>NaN</td>\n",
       "      <td>43.250000</td>\n",
       "      <td>NaN</td>\n",
       "      <td>NaN</td>\n",
       "      <td>9.000000</td>\n",
       "      <td>8.000000</td>\n",
       "    </tr>\n",
       "    <tr>\n",
       "      <th>max</th>\n",
       "      <td>NaN</td>\n",
       "      <td>NaN</td>\n",
       "      <td>27.000000</td>\n",
       "      <td>NaN</td>\n",
       "      <td>99.000000</td>\n",
       "      <td>NaN</td>\n",
       "      <td>NaN</td>\n",
       "      <td>10.000000</td>\n",
       "      <td>23.000000</td>\n",
       "    </tr>\n",
       "  </tbody>\n",
       "</table>\n",
       "</div>"
      ],
      "text/plain": [
       "       Favorite programming language      Favorite Monty Python movie  \\\n",
       "count                            116                              116   \n",
       "unique                             7                                6   \n",
       "top                           Python  Monty Python and the Holy Grail   \n",
       "freq                              94                               57   \n",
       "mean                             NaN                              NaN   \n",
       "std                              NaN                              NaN   \n",
       "min                              NaN                              NaN   \n",
       "25%                              NaN                              NaN   \n",
       "50%                              NaN                              NaN   \n",
       "75%                              NaN                              NaN   \n",
       "max                              NaN                              NaN   \n",
       "\n",
       "        Years of Python experience Have used Scikit-learn         Age  \\\n",
       "count                   116.000000                    116  116.000000   \n",
       "unique                         NaN                      2         NaN   \n",
       "top                            NaN                   Yep!         NaN   \n",
       "freq                           NaN                     80         NaN   \n",
       "mean                      4.195690                    NaN   36.586207   \n",
       "std                       5.136187                    NaN   13.260644   \n",
       "min                       0.000000                    NaN    3.000000   \n",
       "25%                       1.000000                    NaN   28.000000   \n",
       "50%                       3.000000                    NaN   34.000000   \n",
       "75%                       5.000000                    NaN   43.250000   \n",
       "max                      27.000000                    NaN   99.000000   \n",
       "\n",
       "       In the Terminator franchise, did you root for the humans or the machines?  \\\n",
       "count                                                 116                          \n",
       "unique                                                  2                          \n",
       "top                                          Team Humans!                          \n",
       "freq                                                   88                          \n",
       "mean                                                  NaN                          \n",
       "std                                                   NaN                          \n",
       "min                                                   NaN                          \n",
       "25%                                                   NaN                          \n",
       "50%                                                   NaN                          \n",
       "75%                                                   NaN                          \n",
       "max                                                   NaN                          \n",
       "\n",
       "       Which is the better game?  \\\n",
       "count                        116   \n",
       "unique                         4   \n",
       "top                        Chess   \n",
       "freq                          69   \n",
       "mean                         NaN   \n",
       "std                          NaN   \n",
       "min                          NaN   \n",
       "25%                          NaN   \n",
       "50%                          NaN   \n",
       "75%                          NaN   \n",
       "max                          NaN   \n",
       "\n",
       "        How successful has this tutorial been so far?   Education  \n",
       "count                                      116.000000  116.000000  \n",
       "unique                                            NaN         NaN  \n",
       "top                                               NaN         NaN  \n",
       "freq                                              NaN         NaN  \n",
       "mean                                         7.051724    6.172414  \n",
       "std                                          2.229622    3.467303  \n",
       "min                                          1.000000  -10.000000  \n",
       "25%                                          5.000000    4.000000  \n",
       "50%                                          8.000000    6.000000  \n",
       "75%                                          9.000000    8.000000  \n",
       "max                                         10.000000   23.000000  "
      ]
     },
     "execution_count": 4,
     "metadata": {},
     "output_type": "execute_result"
    }
   ],
   "source": [
    "humans.describe(include=['object', 'int', 'float'])"
   ]
  },
  {
   "cell_type": "markdown",
   "metadata": {
    "colab_type": "text",
    "id": "_M3qWldORGPv"
   },
   "source": [
    "---"
   ]
  },
  {
   "cell_type": "markdown",
   "metadata": {
    "colab_type": "text",
    "id": "wlUwwfpqRGPw"
   },
   "source": [
    "## Data cleanup"
   ]
  },
  {
   "cell_type": "markdown",
   "metadata": {
    "colab_type": "text",
    "id": "owYergB2RGPw"
   },
   "source": [
    "You can look into other features of the data yourself, but in the summary view a few data quality issues jump out.  This is—again—almost universal to real world datasets.  It seems dubious that two 3 year-olds were in attendance.  Perhaps a couple 30-somethings mistyped entering their ages.  A 99 year-old is possible, but seems more likely to be a placeholder value used by some respondent.  While the description of what is meant by the integer \"Education\" was probably underspecified, it still feels like the -10 years of education is more likely to be a data entry problem than an intended indicator.\n",
    "\n",
    "But the data we have is the data we must analyze.\n",
    "\n",
    "Before we go further, it is usually a good idea to use [one-hot encoding](https://en.wikipedia.org/wiki/One-hot) of categorical data for machine learning purposes.  Most likely this makes less difference for the decision tree and random forest classifiers used in this presentation than it might for other classifiers and regressors, but it rarely hurts.  In this notebook, the encoding is performed with [`pandas.get_dummies()`](https://pandas.pydata.org/pandas-docs/stable/generated/pandas.get_dummies.html), but you could equally use [`sklearn.preprocessing.LabelBinarizer`](http://scikit-learn.org/stable/modules/generated/sklearn.preprocessing.LabelBinarizer.html#sklearn.preprocessing.LabelBinarizer) to accomplish the same goal."
   ]
  },
  {
   "cell_type": "code",
   "execution_count": 5,
   "metadata": {
    "colab": {},
    "colab_type": "code",
    "id": "VQBxj_cRRGPw"
   },
   "outputs": [
    {
     "data": {
      "text/plain": [
       "['Years of Python experience',\n",
       " 'Age',\n",
       " 'How successful has this tutorial been so far?',\n",
       " 'Education',\n",
       " 'Favorite programming language_C++',\n",
       " 'Favorite programming language_JavaScript',\n",
       " 'Favorite programming language_MATLAB',\n",
       " 'Favorite programming language_Python',\n",
       " 'Favorite programming language_R',\n",
       " 'Favorite programming language_Scala',\n",
       " 'Favorite programming language_Whitespace',\n",
       " 'Favorite Monty Python movie_And Now for Something Completely Different',\n",
       " 'Favorite Monty Python movie_Monty Python Live at the Hollywood Bowl',\n",
       " 'Favorite Monty Python movie_Monty Python and the Holy Grail',\n",
       " \"Favorite Monty Python movie_Monty Python's Life of Brian\",\n",
       " \"Favorite Monty Python movie_Monty Python's The Meaning of Life\",\n",
       " 'Favorite Monty Python movie_Time Bandits',\n",
       " 'Have used Scikit-learn_Nope.',\n",
       " 'Have used Scikit-learn_Yep!',\n",
       " 'In the Terminator franchise, did you root for the humans or the machines?_Skynet is a WINNER!',\n",
       " 'In the Terminator franchise, did you root for the humans or the machines?_Team Humans!',\n",
       " 'Which is the better game?_Chess',\n",
       " 'Which is the better game?_Go',\n",
       " 'Which is the better game?_Longing for the sweet release of death',\n",
       " 'Which is the better game?_Tic-tac-toe (Br. Eng. \"noughts and crosses\")']"
      ]
     },
     "execution_count": 5,
     "metadata": {},
     "output_type": "execute_result"
    }
   ],
   "source": [
    "human_dummies = pd.get_dummies(humans)\n",
    "list(human_dummies.columns)"
   ]
  },
  {
   "cell_type": "markdown",
   "metadata": {
    "colab_type": "text",
    "id": "9uwUbfOGRGP1"
   },
   "source": [
    "---"
   ]
  },
  {
   "cell_type": "markdown",
   "metadata": {
    "colab_type": "text",
    "id": "-MHVlSGwRGP1"
   },
   "source": [
    "# Classification: Choosing features and a target"
   ]
  },
  {
   "cell_type": "markdown",
   "metadata": {
    "colab_type": "text",
    "id": "bGK7k3sZRGP1"
   },
   "source": [
    "It is time to use scikit-learn to model the respondents.  In particular, we would like to know whether other features of attendees are a good predictor of how successful they found the tutorial.  A very common pattern you will see in machine learning based on starting DataFrames is to drop one column for the `X` features, and keep that one for the `y` target.\n",
    "\n",
    "In my analysis, I felt a binary measure of success was more relevant than a scalar measure initially collected as a 1-10 scale.  Moreover, if the target is simplified this way, it becomes appropriate to use a **classification** algorithm as opposed to a **regression** algorithm.  It would be a mistake to treat the 1-10 scale as a categorical consisting of 10 independent labels—there is something inherently ordinal about these labels, although *scikit-learn* will happily calculate models as if there is not.  This is a place where subject matter judgement is needed by a data scientist.\n",
    "\n",
    "You will have noticed by the summary data giving mean and median of success scores that `>=8` will approximately evenly divide the data into \"Yes\" and \"No\" categories."
   ]
  },
  {
   "cell_type": "code",
   "execution_count": 6,
   "metadata": {
    "colab": {},
    "colab_type": "code",
    "id": "NQXIjJzRRGP5"
   },
   "outputs": [],
   "source": [
    "X = human_dummies.drop(\"How successful has this tutorial been so far?\", axis=1)\n",
    "y = human_dummies[\"How successful has this tutorial been so far?\"] >= 8"
   ]
  },
  {
   "cell_type": "markdown",
   "metadata": {
    "colab_type": "text",
    "id": "8RJrj_4ARGP8"
   },
   "source": [
    "## Conventional names and shapes"
   ]
  },
  {
   "cell_type": "markdown",
   "metadata": {
    "colab_type": "text",
    "id": "LoZ08upeRGP8"
   },
   "source": [
    "In almost all machine learning discussions, you will see the names capital-X and lowercase-y for the feature set and the target.  The idea here is that the capital stands for the *independent variables*, but in general one expects there to be multiple such feature variables.  The target consists of just one *dependent variable*, and hence its lowercase.  The feature set and the target will always have the same number of rows.\n",
    "\n",
    "Using X and y to distinguish independent and dependent variables is widespread in many areas of mathematics.  Moreover, you will often see the features within X named x<sub>1</sub>, x<sub>2</sub>, x<sub>3</sub>, and so on in more academic texts."
   ]
  },
  {
   "cell_type": "markdown",
   "metadata": {
    "colab_type": "text",
    "id": "pN1svNMNRGP-"
   },
   "source": [
    "---"
   ]
  },
  {
   "cell_type": "code",
   "execution_count": 7,
   "metadata": {
    "colab": {},
    "colab_type": "code",
    "id": "M5HZzBYQRGP-",
    "outputId": "3f1cecf2-dc31-4c78-dcff-08d340b54c6c"
   },
   "outputs": [
    {
     "data": {
      "text/plain": [
       "0     True\n",
       "1     True\n",
       "2     True\n",
       "3    False\n",
       "4     True\n",
       "Name: How successful has this tutorial been so far?, dtype: bool"
      ]
     },
     "execution_count": 7,
     "metadata": {},
     "output_type": "execute_result"
    }
   ],
   "source": [
    "y.head()"
   ]
  },
  {
   "cell_type": "code",
   "execution_count": 8,
   "metadata": {
    "colab": {},
    "colab_type": "code",
    "id": "_eyVDlBZRGQB",
    "outputId": "b4ae8aaa-0bab-4be0-b09d-2bee844f96c1"
   },
   "outputs": [
    {
     "data": {
      "text/html": [
       "<div>\n",
       "<style>\n",
       "    .dataframe thead tr:only-child th {\n",
       "        text-align: right;\n",
       "    }\n",
       "\n",
       "    .dataframe thead th {\n",
       "        text-align: left;\n",
       "    }\n",
       "\n",
       "    .dataframe tbody tr th {\n",
       "        vertical-align: top;\n",
       "    }\n",
       "</style>\n",
       "<table border=\"1\" class=\"dataframe\">\n",
       "  <thead>\n",
       "    <tr style=\"text-align: right;\">\n",
       "      <th></th>\n",
       "      <th>Years of Python experience</th>\n",
       "      <th>Age</th>\n",
       "      <th>Education</th>\n",
       "      <th>Favorite programming language_C++</th>\n",
       "      <th>Favorite programming language_JavaScript</th>\n",
       "    </tr>\n",
       "  </thead>\n",
       "  <tbody>\n",
       "    <tr>\n",
       "      <th>0</th>\n",
       "      <td>20.0</td>\n",
       "      <td>53</td>\n",
       "      <td>12</td>\n",
       "      <td>0</td>\n",
       "      <td>0</td>\n",
       "    </tr>\n",
       "    <tr>\n",
       "      <th>1</th>\n",
       "      <td>4.0</td>\n",
       "      <td>33</td>\n",
       "      <td>5</td>\n",
       "      <td>0</td>\n",
       "      <td>0</td>\n",
       "    </tr>\n",
       "    <tr>\n",
       "      <th>2</th>\n",
       "      <td>1.0</td>\n",
       "      <td>31</td>\n",
       "      <td>10</td>\n",
       "      <td>0</td>\n",
       "      <td>0</td>\n",
       "    </tr>\n",
       "    <tr>\n",
       "      <th>3</th>\n",
       "      <td>12.0</td>\n",
       "      <td>60</td>\n",
       "      <td>10</td>\n",
       "      <td>0</td>\n",
       "      <td>0</td>\n",
       "    </tr>\n",
       "    <tr>\n",
       "      <th>4</th>\n",
       "      <td>7.0</td>\n",
       "      <td>48</td>\n",
       "      <td>6</td>\n",
       "      <td>0</td>\n",
       "      <td>0</td>\n",
       "    </tr>\n",
       "  </tbody>\n",
       "</table>\n",
       "</div>"
      ],
      "text/plain": [
       "   Years of Python experience  Age  Education  \\\n",
       "0                        20.0   53         12   \n",
       "1                         4.0   33          5   \n",
       "2                         1.0   31         10   \n",
       "3                        12.0   60         10   \n",
       "4                         7.0   48          6   \n",
       "\n",
       "   Favorite programming language_C++  Favorite programming language_JavaScript  \n",
       "0                                  0                                         0  \n",
       "1                                  0                                         0  \n",
       "2                                  0                                         0  \n",
       "3                                  0                                         0  \n",
       "4                                  0                                         0  "
      ]
     },
     "execution_count": 8,
     "metadata": {},
     "output_type": "execute_result"
    }
   ],
   "source": [
    "X.iloc[:5,:5]"
   ]
  },
  {
   "cell_type": "markdown",
   "metadata": {
    "colab_type": "text",
    "id": "qCEBP_27RGQH"
   },
   "source": [
    "---"
   ]
  },
  {
   "cell_type": "markdown",
   "metadata": {
    "colab_type": "text",
    "id": "ln8DU_vMRGQI"
   },
   "source": [
    "# Train/test split"
   ]
  },
  {
   "cell_type": "markdown",
   "metadata": {
    "colab_type": "text",
    "id": "h6Tqtk1uRGQJ"
   },
   "source": [
    "While using [sklearn.model_selection.StratifiedKFold](http://scikit-learn.org/stable/modules/generated/sklearn.model_selection.StratifiedKFold.html) is a more rigorous way of evaluating a model, for quick-and-dirty experimentation, using `train_test_split` is usually the easiest approach.  In either case, the basic principle is that you want to avoid *overfitting* by training on different data than you use to test your model."
   ]
  },
  {
   "cell_type": "code",
   "execution_count": 9,
   "metadata": {
    "colab": {},
    "colab_type": "code",
    "id": "D4a8JwXLRGQK",
    "outputId": "fc171858-2227-4baa-a4ff-13866bf0cc1c"
   },
   "outputs": [
    {
     "name": "stdout",
     "output_type": "stream",
     "text": [
      "Training features/target: (87, 24) (87,)\n",
      "Testing features/target: (29, 24) (29,)\n"
     ]
    }
   ],
   "source": [
    "from sklearn.model_selection import train_test_split\n",
    "X_train, X_test, y_train, y_test = train_test_split(X, y, random_state=1)\n",
    "print(\"Training features/target:\", X_train.shape, y_train.shape)\n",
    "print(\"Testing features/target:\", X_test.shape, y_test.shape)"
   ]
  },
  {
   "cell_type": "markdown",
   "metadata": {
    "colab_type": "text",
    "id": "5wA5kyjjRGQN"
   },
   "source": [
    "---"
   ]
  },
  {
   "cell_type": "markdown",
   "metadata": {
    "colab_type": "text",
    "id": "-xbKD8X1RGQO"
   },
   "source": [
    "## Choosing an algorithm: Decision Trees and Random Forests"
   ]
  },
  {
   "cell_type": "markdown",
   "metadata": {
    "colab_type": "text",
    "id": "Kaa6faDcRGQO"
   },
   "source": [
    "An interesting thing happened in trying a few models out.  While `RandomForestClassifier` is incredibly powerful, and very often produces the most accurate predictions among all classifiers, for this particular data a single `DecisionTreeClassifer` does better.  Attendees might want to think about why this turns out to be true and/or experiment with hyperparameters to find a more definite explanation; other classifiers might perform better still also, of course.\n",
    "\n",
    "I will note that choosing the best `max_depth` for decision tree family algorithms is largely a matter of trial and error.  You can search the space in a nice high level API using [sklearn.model_selection.GridSearchCV](http://scikit-learn.org/stable/modules/generated/sklearn.model_selection.GridSearchCV.html), but it often suffices to use a basic Python loop like:\n",
    "\n",
    "```python\n",
    "for n in range(1,20):\n",
    "    tree = DecisionTreeClassifier(max_depth=n)\n",
    "    tree.fit(X_train, y_train)\n",
    "    print(n, tree.score(X_test, y_test))\n",
    "```    "
   ]
  },
  {
   "cell_type": "code",
   "execution_count": 10,
   "metadata": {
    "colab": {},
    "colab_type": "code",
    "id": "pXV86xYgRGQP",
    "outputId": "c43a6c90-c329-4e16-b8c3-ca6798f69dfa"
   },
   "outputs": [
    {
     "data": {
      "text/plain": [
       "0.51724137931034486"
      ]
     },
     "execution_count": 10,
     "metadata": {},
     "output_type": "execute_result"
    }
   ],
   "source": [
    "from sklearn.ensemble import RandomForestClassifier\n",
    "rf = RandomForestClassifier(n_estimators=10, random_state=0)\n",
    "rf.fit(X_train, y_train)\n",
    "rf.score(X_test, y_test)"
   ]
  },
  {
   "cell_type": "code",
   "execution_count": 11,
   "metadata": {
    "colab": {},
    "colab_type": "code",
    "id": "_z-WfugkRGQU",
    "outputId": "a0de5fac-c51a-4fe1-f290-b20edf3e2248"
   },
   "outputs": [
    {
     "data": {
      "text/plain": [
       "0.58620689655172409"
      ]
     },
     "execution_count": 11,
     "metadata": {},
     "output_type": "execute_result"
    }
   ],
   "source": [
    "from sklearn.tree import DecisionTreeClassifier\n",
    "tree = DecisionTreeClassifier(max_depth=7, random_state=0)\n",
    "tree.fit(X_train, y_train)\n",
    "tree.score(X_test, y_test)"
   ]
  },
  {
   "cell_type": "markdown",
   "metadata": {
    "colab_type": "text",
    "id": "CXdnKprCRGQY"
   },
   "source": [
    "---"
   ]
  },
  {
   "cell_type": "markdown",
   "metadata": {
    "colab_type": "text",
    "id": "-M4JYWzcRGQZ"
   },
   "source": [
    "# Feature importances"
   ]
  },
  {
   "cell_type": "markdown",
   "metadata": {
    "colab_type": "text",
    "id": "DShGyn9URGQZ"
   },
   "source": [
    "Best practice in machine learning is to keep training and testing sets separate.  In the end, with sufficiently large datasets, it makes little difference in the trained model parameters whether or how train/test observations are separated.  But this is a small dataset, and also reflects a somewhat unique event (many students will learn about machine learning through many channels, but this particular tutorial, with a particular instructor, at a particular conference, will not necessarily generalize to all those channels).\n",
    "\n",
    "Therefore, in order to see simply what is the \"best possible\" decision tree for this dataset, I deliberately overfit by including all the observations in the model.  \n",
    "\n",
    "*Note that the feature importances identified by this classifier are not *necessarily* of the same order or ratios as would be produced by other classifiers.*"
   ]
  },
  {
   "cell_type": "code",
   "execution_count": 12,
   "metadata": {
    "colab": {},
    "colab_type": "code",
    "id": "CggXLD2cRGQb",
    "outputId": "da53b02e-2a52-4ce0-973a-2ba966ce81d1"
   },
   "outputs": [
    {
     "data": {
      "text/plain": [
       "0.81034482758620685"
      ]
     },
     "execution_count": 12,
     "metadata": {},
     "output_type": "execute_result"
    }
   ],
   "source": [
    "tree = DecisionTreeClassifier(max_depth=7, random_state=0)\n",
    "tree.fit(X, y)\n",
    "tree.score(X, y)"
   ]
  },
  {
   "cell_type": "code",
   "execution_count": 13,
   "metadata": {
    "colab": {},
    "colab_type": "code",
    "id": "vUOii3rIRGQf",
    "outputId": "1e540f4e-c921-4ec7-c1de-47f9fbea8d76"
   },
   "outputs": [
    {
     "data": {
      "image/png": "[encoded data removed]",
      "text/plain": [
       "<matplotlib.figure.Figure at 0x7fdb1f8962e8>"
      ]
     },
     "metadata": {},
     "output_type": "display_data"
    }
   ],
   "source": [
    "%matplotlib inline\n",
    "pd.Series(tree.feature_importances_, index=X.columns).plot.barh(figsize=(18,7));"
   ]
  },
  {
   "cell_type": "markdown",
   "metadata": {
    "colab_type": "text",
    "id": "XXQOItyERGQj"
   },
   "source": [
    "---"
   ]
  },
  {
   "cell_type": "markdown",
   "metadata": {
    "colab_type": "text",
    "id": "LA5EIkfiRGQk"
   },
   "source": [
    "# Cut points in a Decision Tree"
   ]
  },
  {
   "cell_type": "markdown",
   "metadata": {
    "colab_type": "text",
    "id": "3jfNC-tKRGQl"
   },
   "source": [
    "As well as seeing what features are most important in this trained model, we can use a lovely utility method in `sklearn.tree` to display the entire tree and its decision cuts."
   ]
  },
  {
   "cell_type": "markdown",
   "metadata": {
    "colab": {},
    "colab_type": "code",
    "id": "fA0OfkeZRGQm",
    "outputId": "f42fa473-4232-4a9c-98fb-8b85df3ca1bc"
   },
   "source": [
    "```python\n",
    "from sklearn.tree import export_graphviz\n",
    "import sys, subprocess\n",
    "export_graphviz(tree, feature_names=X.columns, class_names=['failure','success'],\n",
    "                out_file='ml-good.dot', impurity=False, filled=True)\n",
    "subprocess.check_call([sys.prefix+'/bin/dot','-Tpng','ml-good.dot',\n",
    "                       '-o','ml-good.png'])\n",
    "```"
   ]
  },
  {
   "cell_type": "markdown",
   "metadata": {
    "colab": {},
    "colab_type": "code",
    "id": "fA0OfkeZRGQm",
    "outputId": "f42fa473-4232-4a9c-98fb-8b85df3ca1bc"
   },
   "source": [
    "![Cut points](ml-good.png)"
   ]
  },
  {
   "cell_type": "markdown",
   "metadata": {
    "colab_type": "text",
    "id": "cMYM-cN1RGQq"
   },
   "source": [
    "In the diagram, blue branches reflect those respondents who found the tutorial more successful, and orange branches those who found it less so.  The saturation of the displayed boxes reflects the strength of that decision branch.\n",
    "\n",
    "As seems obvious in retrospect, the fans of [_And Now for Something Completely Different_](https://en.wikipedia.org/wiki/And_Now_for_Something_Completely_Different) really did not like my tutorial very much.  I probably should have provided a disclaimer at the beginning of the session.  Years of Python experience is a slightly more important feature, but it follows an oddly stratified pattern wherein several different ranges of years show positive or negative effects—it's not linear."
   ]
  },
  {
   "cell_type": "markdown",
   "metadata": {
    "colab_type": "text",
    "id": "IV4Vr5pZRGQr"
   },
   "source": [
    "And of course, [_Time Bandits_](https://en.wikipedia.org/wiki/Time_Bandits) was not a Monty Python film at all: it is a Terry Gilliam film that happened to cast a number of Monty Python cast members.  What on earth **were** those respondents thinking?!"
   ]
  },
  {
   "cell_type": "markdown",
   "metadata": {
    "colab_type": "text",
    "id": "klUkUwRnRGQs"
   },
   "source": [
    "---"
   ]
  },
  {
   "cell_type": "markdown",
   "metadata": {
    "colab_type": "text",
    "id": "Ql3wN7JKRGQu"
   },
   "source": [
    "# Quick comparison of many classifiers in scikit-learn"
   ]
  },
  {
   "cell_type": "markdown",
   "metadata": {
    "colab_type": "text",
    "id": "pT4GI-W3RGQu"
   },
   "source": [
    "> **\"The first 90 percent of the code accounts for the first 90 percent of the development time. The remaining 10 percent of the code accounts for the other 90 percent of the development time.\"** –Tom Cargill, Bell Labs"
   ]
  },
  {
   "cell_type": "markdown",
   "metadata": {
    "colab_type": "text",
    "id": "4dBUYPWDRGQv"
   },
   "source": [
    "Having done the 90% of our work that was needed for data cleanup, the next 90% can be spent on model selection.  Better hyper-parameters than those chosen below (mostly defaults) are likely to identify better fits.  Moreover, the few classifiers listed are by no means all of those in *scikit-learn*.\n",
    "\n",
    "This code is mostly based on the Scikit-learn [Classifier Comparison](http://scikit-learn.org/stable/auto_examples/classification/plot_classifier_comparison.html).\n",
    "\n",
    "> Code source: Gaël Varoquaux & Andreas Müller<br/>\n",
    "> Modified for documentation by Jaques Grobler<br/>\n",
    "> License: BSD 3 clause"
   ]
  },
  {
   "cell_type": "code",
   "execution_count": 14,
   "metadata": {
    "colab": {},
    "colab_type": "code",
    "id": "S21EOj91RGQw"
   },
   "outputs": [],
   "source": [
    "from sklearn.neural_network import MLPClassifier\n",
    "from sklearn.neighbors import KNeighborsClassifier\n",
    "from sklearn.svm import SVC\n",
    "from sklearn.gaussian_process import GaussianProcessClassifier\n",
    "from sklearn.gaussian_process.kernels import RBF\n",
    "from sklearn.tree import DecisionTreeClassifier\n",
    "from sklearn.ensemble import RandomForestClassifier, AdaBoostClassifier\n",
    "from sklearn.naive_bayes import GaussianNB\n",
    "from sklearn.discriminant_analysis import QuadraticDiscriminantAnalysis\n",
    "\n",
    "classifiers = {\n",
    "    \"KNN(3)\"       : KNeighborsClassifier(3), \n",
    "    \"Linear SVM\"   : SVC(kernel=\"linear\"), \n",
    "    \"RBF SVM\"      : SVC(gamma=2, C=1), \n",
    "    \"Gaussian Proc\": GaussianProcessClassifier(1.0 * RBF(1.0)),\n",
    "    \"Decision Tree\": DecisionTreeClassifier(max_depth=7), \n",
    "    \"Random Forest\": RandomForestClassifier(max_depth=7, n_estimators=10, max_features=4), \n",
    "    \"Neural Net\"   : MLPClassifier(alpha=1), \n",
    "    \"AdaBoost\"     : AdaBoostClassifier(),\n",
    "    \"Naive Bayes\"  : GaussianNB(), \n",
    "    \"QDA\"          : QuadraticDiscriminantAnalysis()\n",
    "}"
   ]
  },
  {
   "cell_type": "code",
   "execution_count": 15,
   "metadata": {
    "colab": {},
    "colab_type": "code",
    "id": "B103d05URGQx",
    "outputId": "3a153404-a2ca-4a61-fcf0-794aed197baf"
   },
   "outputs": [
    {
     "name": "stdout",
     "output_type": "stream",
     "text": [
      "KNN(3)         | score = 0.517\n",
      "Linear SVM     | score = 0.621\n",
      "RBF SVM        | score = 0.586\n",
      "Gaussian Proc  | score = 0.483\n",
      "Decision Tree  | score = 0.517\n",
      "Random Forest  | score = 0.621\n",
      "Neural Net     | score = 0.586\n",
      "AdaBoost       | score = 0.552\n",
      "Naive Bayes    | score = 0.655\n",
      "QDA            | score = 0.621\n"
     ]
    }
   ],
   "source": [
    "for name, classifier in classifiers.items():\n",
    "    classifier.fit(X_train, y_train)\n",
    "    score = classifier.score(X_test, y_test)\n",
    "    print(\"{:<15}| score = {:.3f}\".format(name, score))"
   ]
  },
  {
   "cell_type": "markdown",
   "metadata": {
    "colab_type": "text",
    "id": "f2_8VlyBRGQ-"
   },
   "source": [
    "---"
   ]
  },
  {
   "cell_type": "markdown",
   "metadata": {
    "colab_type": "text",
    "id": "_GjWBIJgRGQ_"
   },
   "source": [
    "# Regression"
   ]
  },
  {
   "cell_type": "markdown",
   "metadata": {
    "colab_type": "text",
    "id": "G9guRZ08RGRC"
   },
   "source": [
    "For a regression, we want a range of target values, not a binary category. Having one-hot encoded binary features with a target that is more ordinal than continuous is close to the worst case for using a regression.  It's time to move away from the \"Learning about Humans learning ML\" dataset. We will use a well-known example dataset that is included with *scikit-learn* for this next section."
   ]
  },
  {
   "cell_type": "markdown",
   "metadata": {
    "colab_type": "text",
    "id": "6yInBJGQRGRC"
   },
   "source": [
    "---"
   ]
  },
  {
   "cell_type": "markdown",
   "metadata": {
    "colab_type": "text",
    "id": "gkFq0rMyRGRD"
   },
   "source": [
    "## Sample datasets"
   ]
  },
  {
   "cell_type": "markdown",
   "metadata": {
    "colab_type": "text",
    "id": "ePOeUBCNRGRE"
   },
   "source": [
    "A number of sample datasets are included with scikit-learn, either already bundled with a `load_*()` function for the smaller ones or with a `fetch_*()` function for the larger ones that can be obtained online.  The `make_*()` functions create synthetic datasets with some randomness in their generation."
   ]
  },
  {
   "cell_type": "code",
   "execution_count": 16,
   "metadata": {
    "colab": {},
    "colab_type": "code",
    "id": "WCeNguCJRGRF",
    "outputId": "4af093c9-7b0e-41aa-a8fc-07a2d10dc666"
   },
   "outputs": [
    {
     "data": {
      "text/plain": [
       "['base',\n",
       " 'california_housing',\n",
       " 'clear_data_home',\n",
       " 'covtype',\n",
       " 'dump_svmlight_file',\n",
       " 'fetch_20newsgroups',\n",
       " 'fetch_20newsgroups_vectorized',\n",
       " 'fetch_california_housing',\n",
       " 'fetch_covtype',\n",
       " 'fetch_kddcup99',\n",
       " 'fetch_lfw_pairs',\n",
       " 'fetch_lfw_people',\n",
       " 'fetch_mldata',\n",
       " 'fetch_olivetti_faces',\n",
       " 'fetch_rcv1',\n",
       " 'fetch_species_distributions',\n",
       " 'get_data_home',\n",
       " 'kddcup99',\n",
       " 'lfw',\n",
       " 'load_boston',\n",
       " 'load_breast_cancer',\n",
       " 'load_diabetes',\n",
       " 'load_digits',\n",
       " 'load_files',\n",
       " 'load_iris',\n",
       " 'load_linnerud',\n",
       " 'load_mlcomp',\n",
       " 'load_sample_image',\n",
       " 'load_sample_images',\n",
       " 'load_svmlight_file',\n",
       " 'load_svmlight_files',\n",
       " 'load_wine',\n",
       " 'make_biclusters',\n",
       " 'make_blobs',\n",
       " 'make_checkerboard',\n",
       " 'make_circles',\n",
       " 'make_classification',\n",
       " 'make_friedman1',\n",
       " 'make_friedman2',\n",
       " 'make_friedman3',\n",
       " 'make_gaussian_quantiles',\n",
       " 'make_hastie_10_2',\n",
       " 'make_low_rank_matrix',\n",
       " 'make_moons',\n",
       " 'make_multilabel_classification',\n",
       " 'make_regression',\n",
       " 'make_s_curve',\n",
       " 'make_sparse_coded_signal',\n",
       " 'make_sparse_spd_matrix',\n",
       " 'make_sparse_uncorrelated',\n",
       " 'make_spd_matrix',\n",
       " 'make_swiss_roll',\n",
       " 'mlcomp',\n",
       " 'mldata',\n",
       " 'mldata_filename',\n",
       " 'olivetti_faces',\n",
       " 'rcv1',\n",
       " 'samples_generator',\n",
       " 'species_distributions',\n",
       " 'svmlight_format',\n",
       " 'twenty_newsgroups']"
      ]
     },
     "execution_count": 16,
     "metadata": {},
     "output_type": "execute_result"
    }
   ],
   "source": [
    "from sklearn import datasets\n",
    "[attr for attr in dir(datasets) if not attr.startswith('_')]"
   ]
  },
  {
   "cell_type": "markdown",
   "metadata": {
    "colab_type": "text",
    "id": "ZoWeKZFlRGRH"
   },
   "source": [
    "---"
   ]
  },
  {
   "cell_type": "markdown",
   "metadata": {
    "colab_type": "text",
    "id": "x6GYAL3tRGRI"
   },
   "source": [
    "## Boston Housing Prices"
   ]
  },
  {
   "cell_type": "markdown",
   "metadata": {
    "colab_type": "text",
    "id": "Q0KkO0L_RGRJ"
   },
   "source": [
    "The Boston House Prices dataset contains a nice mixture of data.  Most of it is continuous, a little bit is ordinal, and just one feature is a binary category.  This contains a smallish number of rows, but is sufficient for illustration.  The specific values you will see—especially in the house prices target—will seem quaintly 1970s; those who know Boston better will find that neighborhood demographics have changed in other aspects also."
   ]
  },
  {
   "cell_type": "code",
   "execution_count": 17,
   "metadata": {
    "colab": {},
    "colab_type": "code",
    "id": "BupS6sgtRGRJ",
    "outputId": "98c91027-2887-4e26-b969-335813d1944c"
   },
   "outputs": [
    {
     "name": "stdout",
     "output_type": "stream",
     "text": [
      "Boston House Prices dataset\n",
      "===========================\n",
      "\n",
      "Notes\n",
      "------\n",
      "Data Set Characteristics:  \n",
      "\n",
      "    :Number of Instances: 506 \n",
      "\n",
      "    :Number of Attributes: 13 numeric/categorical predictive\n",
      "    \n",
      "    :Median Value (attribute 14) is usually the target\n",
      "\n",
      "    :Attribute Information (in order):\n",
      "        - CRIM     per capita crime rate by town\n",
      "        - ZN       proportion of residential land zoned for lots over 25,000 sq.ft.\n",
      "        - INDUS    proportion of non-retail business acres per town\n",
      "        - CHAS     Charles River dummy variable (= 1 if tract bounds river; 0 otherwise)\n",
      "        - NOX      nitric oxides concentration (parts per 10 million)\n",
      "        - RM       average number of rooms per dwelling\n",
      "        - AGE      proportion of owner-occupied units built prior to 1940\n",
      "        - DIS      weighted distances to five Boston employment centres\n",
      "        - RAD      index of accessibility to radial highways\n",
      "        - TAX      full-value property-tax rate per $10,000\n",
      "        - PTRATIO  pupil-teacher ratio by town\n",
      "        - B        1000(Bk - 0.63)^2 where Bk is the proportion of blacks by town\n",
      "        - LSTAT    % lower status of the population\n",
      "        - MEDV     Median value of owner-occupied homes in $1000's\n",
      "\n",
      "    :Missing Attribute Values: None\n",
      "\n",
      "    :Creator: Harrison, D. and Rubinfeld, D.L.\n",
      "\n",
      "This is a copy of UCI ML housing dataset.\n",
      "http://archive.ics.uci.edu/ml/datasets/Housing\n",
      "\n",
      "\n",
      "This dataset was taken from the StatLib library which is maintained at Carnegie Mellon University.\n",
      "\n",
      "The Boston house-price data of Harrison, D. and Rubinfeld, D.L. 'Hedonic\n",
      "prices and the demand for clean air', J. Environ. Economics & Management,\n",
      "vol.5, 81-102, 1978.   Used in Belsley, Kuh & Welsch, 'Regression diagnostics\n",
      "...', Wiley, 1980.   N.B. Various transformations are used in the table on\n",
      "pages 244-261 of the latter.\n",
      "\n",
      "The Boston house-price data has been used in many machine learning papers that address regression\n",
      "problems.   \n",
      "     \n",
      "**References**\n",
      "\n",
      "   - Belsley, Kuh & Welsch, 'Regression diagnostics: Identifying Influential Data and Sources of Collinearity', Wiley, 1980. 244-261.\n",
      "   - Quinlan,R. (1993). Combining Instance-Based and Model-Based Learning. In Proceedings on the Tenth International Conference of Machine Learning, 236-243, University of Massachusetts, Amherst. Morgan Kaufmann.\n",
      "   - many more! (see http://archive.ics.uci.edu/ml/datasets/Housing)\n",
      "\n"
     ]
    }
   ],
   "source": [
    "boston = datasets.load_boston()\n",
    "print(boston.DESCR)"
   ]
  },
  {
   "cell_type": "markdown",
   "metadata": {
    "colab_type": "text",
    "id": "kDNo4Cg0RGRL"
   },
   "source": [
    "---"
   ]
  },
  {
   "cell_type": "markdown",
   "metadata": {
    "colab_type": "text",
    "id": "Q7FOAYcARGRM"
   },
   "source": [
    "## Working with the example datasets"
   ]
  },
  {
   "cell_type": "code",
   "execution_count": 18,
   "metadata": {
    "colab": {},
    "colab_type": "code",
    "id": "0eapasHiRGRN",
    "outputId": "b29a5d4e-5d9c-4365-c763-cfecbb2dc3e2"
   },
   "outputs": [
    {
     "data": {
      "text/html": [
       "<div>\n",
       "<style>\n",
       "    .dataframe thead tr:only-child th {\n",
       "        text-align: right;\n",
       "    }\n",
       "\n",
       "    .dataframe thead th {\n",
       "        text-align: left;\n",
       "    }\n",
       "\n",
       "    .dataframe tbody tr th {\n",
       "        vertical-align: top;\n",
       "    }\n",
       "</style>\n",
       "<table border=\"1\" class=\"dataframe\">\n",
       "  <thead>\n",
       "    <tr style=\"text-align: right;\">\n",
       "      <th></th>\n",
       "      <th>CRIM</th>\n",
       "      <th>ZN</th>\n",
       "      <th>INDUS</th>\n",
       "      <th>CHAS</th>\n",
       "      <th>NOX</th>\n",
       "      <th>RM</th>\n",
       "      <th>AGE</th>\n",
       "      <th>DIS</th>\n",
       "      <th>RAD</th>\n",
       "      <th>TAX</th>\n",
       "      <th>PTRATIO</th>\n",
       "      <th>B</th>\n",
       "      <th>LSTAT</th>\n",
       "    </tr>\n",
       "  </thead>\n",
       "  <tbody>\n",
       "    <tr>\n",
       "      <th>0</th>\n",
       "      <td>0.00632</td>\n",
       "      <td>18.0</td>\n",
       "      <td>2.31</td>\n",
       "      <td>0.0</td>\n",
       "      <td>0.538</td>\n",
       "      <td>6.575</td>\n",
       "      <td>65.2</td>\n",
       "      <td>4.0900</td>\n",
       "      <td>1.0</td>\n",
       "      <td>296.0</td>\n",
       "      <td>15.3</td>\n",
       "      <td>396.90</td>\n",
       "      <td>4.98</td>\n",
       "    </tr>\n",
       "    <tr>\n",
       "      <th>1</th>\n",
       "      <td>0.02731</td>\n",
       "      <td>0.0</td>\n",
       "      <td>7.07</td>\n",
       "      <td>0.0</td>\n",
       "      <td>0.469</td>\n",
       "      <td>6.421</td>\n",
       "      <td>78.9</td>\n",
       "      <td>4.9671</td>\n",
       "      <td>2.0</td>\n",
       "      <td>242.0</td>\n",
       "      <td>17.8</td>\n",
       "      <td>396.90</td>\n",
       "      <td>9.14</td>\n",
       "    </tr>\n",
       "    <tr>\n",
       "      <th>2</th>\n",
       "      <td>0.02729</td>\n",
       "      <td>0.0</td>\n",
       "      <td>7.07</td>\n",
       "      <td>0.0</td>\n",
       "      <td>0.469</td>\n",
       "      <td>7.185</td>\n",
       "      <td>61.1</td>\n",
       "      <td>4.9671</td>\n",
       "      <td>2.0</td>\n",
       "      <td>242.0</td>\n",
       "      <td>17.8</td>\n",
       "      <td>392.83</td>\n",
       "      <td>4.03</td>\n",
       "    </tr>\n",
       "    <tr>\n",
       "      <th>3</th>\n",
       "      <td>0.03237</td>\n",
       "      <td>0.0</td>\n",
       "      <td>2.18</td>\n",
       "      <td>0.0</td>\n",
       "      <td>0.458</td>\n",
       "      <td>6.998</td>\n",
       "      <td>45.8</td>\n",
       "      <td>6.0622</td>\n",
       "      <td>3.0</td>\n",
       "      <td>222.0</td>\n",
       "      <td>18.7</td>\n",
       "      <td>394.63</td>\n",
       "      <td>2.94</td>\n",
       "    </tr>\n",
       "    <tr>\n",
       "      <th>4</th>\n",
       "      <td>0.06905</td>\n",
       "      <td>0.0</td>\n",
       "      <td>2.18</td>\n",
       "      <td>0.0</td>\n",
       "      <td>0.458</td>\n",
       "      <td>7.147</td>\n",
       "      <td>54.2</td>\n",
       "      <td>6.0622</td>\n",
       "      <td>3.0</td>\n",
       "      <td>222.0</td>\n",
       "      <td>18.7</td>\n",
       "      <td>396.90</td>\n",
       "      <td>5.33</td>\n",
       "    </tr>\n",
       "  </tbody>\n",
       "</table>\n",
       "</div>"
      ],
      "text/plain": [
       "      CRIM    ZN  INDUS  CHAS    NOX     RM   AGE     DIS  RAD    TAX  \\\n",
       "0  0.00632  18.0   2.31   0.0  0.538  6.575  65.2  4.0900  1.0  296.0   \n",
       "1  0.02731   0.0   7.07   0.0  0.469  6.421  78.9  4.9671  2.0  242.0   \n",
       "2  0.02729   0.0   7.07   0.0  0.469  7.185  61.1  4.9671  2.0  242.0   \n",
       "3  0.03237   0.0   2.18   0.0  0.458  6.998  45.8  6.0622  3.0  222.0   \n",
       "4  0.06905   0.0   2.18   0.0  0.458  7.147  54.2  6.0622  3.0  222.0   \n",
       "\n",
       "   PTRATIO       B  LSTAT  \n",
       "0     15.3  396.90   4.98  \n",
       "1     17.8  396.90   9.14  \n",
       "2     17.8  392.83   4.03  \n",
       "3     18.7  394.63   2.94  \n",
       "4     18.7  396.90   5.33  "
      ]
     },
     "execution_count": 18,
     "metadata": {},
     "output_type": "execute_result"
    }
   ],
   "source": [
    "# Sample datasets can be easily converted to Pandas/Dask/PySpark DataFrames if desired\n",
    "boston_df = pd.DataFrame(boston.data, columns=boston.feature_names)\n",
    "boston_df.head()"
   ]
  },
  {
   "cell_type": "code",
   "execution_count": 19,
   "metadata": {
    "colab": {},
    "colab_type": "code",
    "id": "sDBnyjpyRGRQ"
   },
   "outputs": [],
   "source": [
    "# The X and y are stored in standard attributes\n",
    "X = boston.data\n",
    "y = boston.target"
   ]
  },
  {
   "cell_type": "markdown",
   "metadata": {
    "colab_type": "text",
    "id": "2-QxzFviRGRQ"
   },
   "source": [
    "---"
   ]
  },
  {
   "cell_type": "markdown",
   "metadata": {
    "colab_type": "text",
    "id": "nbNbq78TRGRR"
   },
   "source": [
    "## Comparing a gaggle of regressors"
   ]
  },
  {
   "cell_type": "markdown",
   "metadata": {
    "colab_type": "text",
    "id": "tYL7UuC1RGRS"
   },
   "source": [
    "The metrics we use in the below code are `explained_variance_score`, `mean_absolute_error`, and `r2_score`.  Many other metrics are are available, mostly within the `sklearn.metrics` submodule."
   ]
  },
  {
   "cell_type": "code",
   "execution_count": 20,
   "metadata": {
    "colab": {},
    "colab_type": "code",
    "id": "ba63iZuhRGRS"
   },
   "outputs": [],
   "source": [
    "from sklearn.metrics import explained_variance_score\n",
    "from sklearn.metrics import mean_absolute_error\n",
    "from sklearn.metrics import r2_score"
   ]
  },
  {
   "cell_type": "markdown",
   "metadata": {
    "colab_type": "text",
    "id": "bRst6m11RGRV"
   },
   "source": [
    "The particular regressors we choose does not reflect any deep decision.  Most are somewhat in the family of linear regression.  RANSAC is tried because it is meant to be more resilient against outliers in data.  The are *sometimes* more strongly predictive and generic linear regression.  One of several Guassian techniques is shown as an example—it behaves worthlessly for this example, at least without hyperparameter tuning."
   ]
  },
  {
   "cell_type": "code",
   "execution_count": 21,
   "metadata": {
    "colab": {},
    "colab_type": "code",
    "id": "r3G5AMuXRGRV",
    "outputId": "58dc2943-63c0-4896-fe05-973016233e8c"
   },
   "outputs": [
    {
     "name": "stdout",
     "output_type": "stream",
     "text": [
      "LinearRegression(copy_X=True, fit_intercept=True, n_jobs=1, normalize=False)\n",
      "\tExplained variance: 0.590190680164\n",
      "\tMean absolute error: 4.00267178836\n",
      "\tR2 score: 0.590177393332\n",
      "RANSACRegressor(base_estimator=None, is_data_valid=None, is_model_valid=None,\n",
      "        loss='absolute_loss', max_skips=inf, max_trials=100,\n",
      "        min_samples=None, random_state=None, residual_metric=None,\n",
      "        residual_threshold=None, stop_n_inliers=inf, stop_probability=0.99,\n",
      "        stop_score=inf)\n",
      "\tExplained variance: 0.48663394389\n",
      "\tMean absolute error: 4.60064986047\n",
      "\tR2 score: 0.452408941537\n",
      "GaussianProcessRegressor(alpha=1e-10, copy_X_train=True, kernel=None,\n",
      "             n_restarts_optimizer=0, normalize_y=False,\n",
      "             optimizer='fmin_l_bfgs_b', random_state=None)\n",
      "\tExplained variance: 0.00202131890511\n",
      "\tMean absolute error: 22.523643045\n",
      "\tR2 score: -6.00742150594\n",
      "KNeighborsRegressor(algorithm='auto', leaf_size=30, metric='manhattan',\n",
      "          metric_params=None, n_jobs=1, n_neighbors=9, p=2,\n",
      "          weights='uniform')\n",
      "\tExplained variance: -0.0330603912946\n",
      "\tMean absolute error: 6.4511198946\n",
      "\tR2 score: -0.0331949681658\n",
      "SVR(C=1.0, cache_size=200, coef0=0.0, degree=3, epsilon=0.1, gamma='auto',\n",
      "  kernel='rbf', max_iter=-1, shrinking=True, tol=0.001, verbose=False)\n",
      "\tExplained variance: -0.0601034216339\n",
      "\tMean absolute error: 6.83097886417\n",
      "\tR2 score: -0.0801604438784\n",
      "LinearSVR(C=1.0, dual=True, epsilon=0.0, fit_intercept=True,\n",
      "     intercept_scaling=1.0, loss='epsilon_insensitive', max_iter=1000,\n",
      "     random_state=None, tol=0.0001, verbose=0)\n",
      "\tExplained variance: 0.426156715282\n",
      "\tMean absolute error: 5.13912026034\n",
      "\tR2 score: 0.412999613597\n",
      "SVR(C=1.0, cache_size=200, coef0=0.0, degree=3, epsilon=0.1, gamma='auto',\n",
      "  kernel='linear', max_iter=-1, shrinking=True, tol=0.001, verbose=False)\n",
      "\tExplained variance: 0.61807071211\n",
      "\tMean absolute error: 3.74651112901\n",
      "\tR2 score: 0.608190896966\n"
     ]
    }
   ],
   "source": [
    "from sklearn.model_selection import cross_val_predict\n",
    "\n",
    "from sklearn.neighbors import KNeighborsRegressor\n",
    "from sklearn.linear_model import LinearRegression, RANSACRegressor\n",
    "from sklearn.gaussian_process import GaussianProcessRegressor\n",
    "from sklearn.svm import SVR\n",
    "from sklearn.svm import LinearSVR\n",
    "\n",
    "regressors = [\n",
    "    LinearRegression(), \n",
    "    RANSACRegressor(), \n",
    "    GaussianProcessRegressor(),\n",
    "    KNeighborsRegressor(n_neighbors=9, metric='manhattan'),\n",
    "    SVR(),\n",
    "    LinearSVR(),\n",
    "    SVR(kernel='linear') # Cf. LinearSVR: much slower, might be better or worse: \n",
    "]\n",
    "\n",
    "for model in regressors:\n",
    "    predictions = cross_val_predict(model, X, y, cv=10)\n",
    "    print(model)\n",
    "    print(\"\\tExplained variance:\", explained_variance_score(y, predictions))\n",
    "    print(\"\\tMean absolute error:\", mean_absolute_error(y, predictions))\n",
    "    print(\"\\tR2 score:\", r2_score(y, predictions))"
   ]
  },
  {
   "cell_type": "markdown",
   "metadata": {
    "colab_type": "text",
    "id": "6bwItiVzRGRX"
   },
   "source": [
    "---"
   ]
  },
  {
   "cell_type": "markdown",
   "metadata": {
    "colab_type": "text",
    "id": "vFhETNwjRGRY"
   },
   "source": [
    "# Hyperparameters"
   ]
  },
  {
   "cell_type": "markdown",
   "metadata": {
    "colab_type": "text",
    "id": "2c0DLnmmRGRY"
   },
   "source": [
    "As mentioned earlier, models in *scikit-learn* have hyperparameters that configure their behavior.  These can be set with named arguments to the class initializer and can be examined or set using attributes of the model object.  For example, the `KNeighborsRegressor` used in the list above performed terribly, but perhaps that is because it has less good hyperparameters.\n",
    "\n",
    "```\n",
    "KNeighborsRegressor(algorithm='auto', leaf_size=30, metric='manhattan',\n",
    "          metric_params=None, n_jobs=1, n_neighbors=9, p=2,\n",
    "          weights='uniform')\n",
    "\tExplained variance: -0.03306039129462701\n",
    "\tMean absolute error: 6.451119894598156\n",
    "\tR2 score: -0.03319496816578171\n",
    "```"
   ]
  },
  {
   "cell_type": "markdown",
   "metadata": {
    "colab_type": "text",
    "id": "2JSQ9O5RRGRY"
   },
   "source": [
    "In practice, you are more likely to start with an algorithm that does moderately well naively, then fine tune it.  In this example, we start with one that is terrible (on the specific dataset; it does well elsewhere), and are simply trying to get it to less terrible for the example."
   ]
  },
  {
   "cell_type": "markdown",
   "metadata": {
    "colab_type": "text",
    "id": "eCeV8S8XRGRY"
   },
   "source": [
    "---"
   ]
  },
  {
   "cell_type": "markdown",
   "metadata": {
    "colab_type": "text",
    "id": "LIMzOusBRGRY"
   },
   "source": [
    "# Grid Search"
   ]
  },
  {
   "cell_type": "markdown",
   "metadata": {
    "colab_type": "text",
    "id": "uzxjeA35RGRZ"
   },
   "source": [
    "At heart a grid search is simply a number of nested loops, with the same combinatorial complexity as those loops make obvious.  If we want to search over `KNeighborsRegressor` with procedural code, we could write:\n",
    "\n",
    "```python\n",
    "for n_neighbors in [5,6,7,8,9,10,11,12]:\n",
    "    for weights in ['uniform', 'distance']\n",
    "        for metric in ['minkowski', 'chebyshev', 'manhattan']:\n",
    "            knr = KNeighborsRegressor(n_neighbors=n_neighbors, weights=weights, metric=metric)\n",
    "            knr.fit(...)\n",
    "            score = knr.score(...)\n",
    "            # ... keep track of best score and hyperparameters ...\n",
    "            # ... etc ...\n",
    "```"
   ]
  },
  {
   "cell_type": "markdown",
   "metadata": {
    "colab_type": "text",
    "id": "LTD38QvYRGRa"
   },
   "source": [
    "The preferred API in *scikit-learn* is more intuitive and provides a few convenience methods on the searched objects (mostly the same methods as models themselves, in fact)."
   ]
  },
  {
   "cell_type": "markdown",
   "metadata": {
    "colab_type": "text",
    "id": "h7WktFivRGRa"
   },
   "source": [
    "---"
   ]
  },
  {
   "cell_type": "markdown",
   "metadata": {
    "colab_type": "text",
    "id": "AmK2fX-PRGRb"
   },
   "source": [
    "It looks like the best one can do with the Boston Housing dataset using `KNeighborsRegressor` remains terrible, but at least we can eliminate that technique for that data."
   ]
  },
  {
   "cell_type": "code",
   "execution_count": 22,
   "metadata": {
    "colab": {},
    "colab_type": "code",
    "id": "y7tiHLGMRGRb",
    "outputId": "b32841bb-d0c6-43ad-ebc1-5417036d1cc1"
   },
   "outputs": [
    {
     "name": "stdout",
     "output_type": "stream",
     "text": [
      "GridSearchCV(cv=None, error_score='raise',\n",
      "       estimator=KNeighborsRegressor(algorithm='auto', leaf_size=30, metric='minkowski',\n",
      "          metric_params=None, n_jobs=1, n_neighbors=5, p=2,\n",
      "          weights='uniform'),\n",
      "       fit_params=None, iid=True, n_jobs=1,\n",
      "       param_grid={'n_neighbors': [5, 6, 7, 8, 9, 10, 11, 12], 'weights': ['uniform', 'distance'], 'metric': ['minkowski', 'chebyshev', 'manhattan']},\n",
      "       pre_dispatch='2*n_jobs', refit=True, return_train_score='warn',\n",
      "       scoring=None, verbose=0)\n"
     ]
    }
   ],
   "source": [
    "from sklearn.model_selection import GridSearchCV\n",
    "knr = KNeighborsRegressor()\n",
    "\n",
    "parameters = {'n_neighbors': [5,6,7,8,9,10,11,12],\n",
    "              'weights': ['uniform', 'distance'],\n",
    "              'metric': ['minkowski', 'chebyshev', 'manhattan']\n",
    "             }\n",
    "grid =  GridSearchCV(knr, parameters)\n",
    "model = grid.fit(X, y)  # Best fit over cross-product of parameter space\n",
    "print(model)"
   ]
  },
  {
   "cell_type": "code",
   "execution_count": 23,
   "metadata": {
    "colab": {},
    "colab_type": "code",
    "id": "vidKFU9tRGRf",
    "outputId": "f497be02-8cb1-4d28-f4c7-4791f62382cf"
   },
   "outputs": [
    {
     "name": "stdout",
     "output_type": "stream",
     "text": [
      "Explained variance: -0.100945295679\n",
      "Mean absolute error: 6.69387857873\n",
      "R2 score: -0.101689752081\n"
     ]
    }
   ],
   "source": [
    "predictions = cross_val_predict(model, X, y, cv=10)\n",
    "print(\"Explained variance:\", explained_variance_score(y, predictions))\n",
    "print(\"Mean absolute error:\", mean_absolute_error(y, predictions))\n",
    "print(\"R2 score:\", r2_score(y, predictions))"
   ]
  },
  {
   "cell_type": "markdown",
   "metadata": {
    "colab_type": "text",
    "id": "C7hNeffkRGRh"
   },
   "source": [
    "---"
   ]
  },
  {
   "cell_type": "markdown",
   "metadata": {
    "colab_type": "text",
    "id": "emMWYYk6RGRh"
   },
   "source": [
    "# Clustering"
   ]
  },
  {
   "cell_type": "markdown",
   "metadata": {
    "colab_type": "text",
    "id": "y3xzSxg0RGRh"
   },
   "source": [
    "There are about a dozen clustering algorithms in *scikit-learn*.  Basically, the purpose of all of them is to find the \"lumps\" in a dimensional dataset where you do not have *a prior* labels.  For no special reason, we chose `SpectralClustering` below."
   ]
  },
  {
   "cell_type": "code",
   "execution_count": 24,
   "metadata": {
    "colab": {},
    "colab_type": "code",
    "id": "eKrwiotRRGRi"
   },
   "outputs": [],
   "source": [
    "from sklearn import cluster\n",
    "spectral = cluster.SpectralClustering(\n",
    "        n_clusters=4, eigen_solver='arpack',\n",
    "        affinity=\"nearest_neighbors\")"
   ]
  },
  {
   "cell_type": "markdown",
   "metadata": {
    "colab_type": "text",
    "id": "vcudyE7oRGRi"
   },
   "source": [
    "The API for clustering is as close to those for other models as is feasible.  Specifically, these models also have a `.fit()` method, but one that does not need or accept targets."
   ]
  },
  {
   "cell_type": "code",
   "execution_count": 25,
   "metadata": {
    "colab": {},
    "colab_type": "code",
    "id": "qYTvDnzeRGRk",
    "outputId": "6fd05d79-970e-49a9-e260-ff200a47fa47"
   },
   "outputs": [
    {
     "data": {
      "text/html": [
       "<div>\n",
       "<style>\n",
       "    .dataframe thead tr:only-child th {\n",
       "        text-align: right;\n",
       "    }\n",
       "\n",
       "    .dataframe thead th {\n",
       "        text-align: left;\n",
       "    }\n",
       "\n",
       "    .dataframe tbody tr th {\n",
       "        vertical-align: top;\n",
       "    }\n",
       "</style>\n",
       "<table border=\"1\" class=\"dataframe\">\n",
       "  <thead>\n",
       "    <tr style=\"text-align: right;\">\n",
       "      <th></th>\n",
       "      <th>price</th>\n",
       "      <th>CRIM</th>\n",
       "      <th>RM</th>\n",
       "      <th>AGE</th>\n",
       "      <th>DIS</th>\n",
       "    </tr>\n",
       "  </thead>\n",
       "  <tbody>\n",
       "    <tr>\n",
       "      <th>low</th>\n",
       "      <td>12.800000</td>\n",
       "      <td>15.689918</td>\n",
       "      <td>6.103088</td>\n",
       "      <td>89.835294</td>\n",
       "      <td>2.000068</td>\n",
       "    </tr>\n",
       "    <tr>\n",
       "      <th>mid_low</th>\n",
       "      <td>17.418447</td>\n",
       "      <td>11.082796</td>\n",
       "      <td>5.974233</td>\n",
       "      <td>90.011650</td>\n",
       "      <td>2.072428</td>\n",
       "    </tr>\n",
       "    <tr>\n",
       "      <th>mid_high</th>\n",
       "      <td>21.212500</td>\n",
       "      <td>0.894798</td>\n",
       "      <td>6.087675</td>\n",
       "      <td>82.507500</td>\n",
       "      <td>2.480024</td>\n",
       "    </tr>\n",
       "    <tr>\n",
       "      <th>high</th>\n",
       "      <td>25.866090</td>\n",
       "      <td>0.248699</td>\n",
       "      <td>6.471142</td>\n",
       "      <td>54.576817</td>\n",
       "      <td>4.984178</td>\n",
       "    </tr>\n",
       "  </tbody>\n",
       "</table>\n",
       "</div>"
      ],
      "text/plain": [
       "              price       CRIM        RM        AGE       DIS\n",
       "low       12.800000  15.689918  6.103088  89.835294  2.000068\n",
       "mid_low   17.418447  11.082796  5.974233  90.011650  2.072428\n",
       "mid_high  21.212500   0.894798  6.087675  82.507500  2.480024\n",
       "high      25.866090   0.248699  6.471142  54.576817  4.984178"
      ]
     },
     "execution_count": 25,
     "metadata": {},
     "output_type": "execute_result"
    }
   ],
   "source": [
    "spectral.fit(boston.data)\n",
    "\n",
    "# Let us do minor Pandas manipulation to view clusters in an intuitive way\n",
    "boston_df['category'] = spectral.labels_\n",
    "boston_df['price'] = boston.target\n",
    "house_clusters = boston_df.groupby('category').mean().sort_values('price')\n",
    "house_clusters.index = ['low', 'mid_low', 'mid_high', 'high']\n",
    "house_clusters[['price', 'CRIM', 'RM', 'AGE', 'DIS']]"
   ]
  },
  {
   "cell_type": "markdown",
   "metadata": {
    "colab_type": "text",
    "id": "sMu8a6jMRGRn"
   },
   "source": [
    "---"
   ]
  },
  {
   "cell_type": "markdown",
   "metadata": {
    "colab_type": "text",
    "id": "DwwAD-qQRGRn"
   },
   "source": [
    "#  Where to go next?"
   ]
  },
  {
   "cell_type": "markdown",
   "metadata": {
    "colab_type": "text",
    "id": "ev4JxblkRGRn"
   },
   "source": [
    "<img src=\"logo.png\" width=\"60%\"/>\n",
    "\n",
    "<div style=\"font-size:200%\">\n",
    "<dl>\n",
    "<dt>Explore Anaconda Enterprise:</dt>\n",
    "  <dd>https://www.anaconda.com/enterprise/</dd>\n",
    "<dt>Schedule an Anaconda Enterprise Demo:</dt>\n",
    "  <dd>ambassador@anaconda.com</dd>\n",
    "<dt>Learn about consulting, training, and support:</dt>\n",
    "  <dd>ambassador@anaconda.com</dd>\n",
    "</dl>\n",
    "</div>"
   ]
  },
  {
   "cell_type": "markdown",
   "metadata": {
    "colab_type": "text",
    "id": "fiVsSqegRGRo"
   },
   "source": [
    "---"
   ]
  },
  {
   "cell_type": "markdown",
   "metadata": {
    "colab_type": "text",
    "id": "GZ8CpyBURGRo"
   },
   "source": [
    "# Table of Contents\n",
    "* [Machine Learning with Scikit-learn](#Machine-Learning-with-Scikit-learn)\n",
    "* [Who am I?](#Who-am-I?)\n",
    "* [What is Anaconda?](#What-is-Anaconda?)\n",
    "* [What is *scikit-learn*?](#What-is-*scikit-learn*?)\n",
    "* [What is Machine Learning?](#What-is-Machine-Learning?)\n",
    "\t* [Difference between \"Deep Learning\" and other ML techniques](#Difference-between-\"Deep-Learning\"-and-other-ML-techniques)\n",
    "\t\t* [Neural Networks](#Neural-Networks)\n",
    "\t\t* [\"Deep\" really just means much larger...](#\"Deep\"-really-just-means-much-larger...)\n",
    "\t* [Other tools used for deep learning and computational requirements (GPU, etc)](#Other-tools-used-for-deep-learning-and-computational-requirements-%28GPU,-etc%29)\n",
    "* [Techniques](#Techniques)\n",
    "\t* [Classification](#Classification)\n",
    "\t* [Regression](#Regression)\n",
    "\t* [Clustering](#Clustering)\n",
    "\t* [Dimensionality Reduction](#Dimensionality-Reduction)\n",
    "* [More Techniques](#More-Techniques)\n",
    "\t* [Feature Engineering](#Feature-Engineering)\n",
    "\t* [Feature Selection](#Feature-Selection)\n",
    "\t* [Categorical vs. Ordinal vs. Continuous variables](#Categorical-vs.-Ordinal-vs.-Continuous-variables)\n",
    "* [Yet more techniques](#Yet-more-techniques)\n",
    "\t* [One-hot encoding](#One-hot-encoding)\n",
    "\t* [Hyperparameters](#Hyperparameters)\n",
    "\t* [Grid Search](#Grid-Search)\n",
    "* [Example: Machines Learning About Humans Learning About Machine Learning](#Example:-Machines-Learning-About-Humans-Learning-About-Machine-Learning)\n",
    "\t* [The whimsical dataset](#The-whimsical-dataset)\n",
    "\t* [Eyballing data](#Eyballing-data)\n",
    "\t* [Data cleanup](#Data-cleanup)\n",
    "* [Classification: Choosing features and a target](#Classification:-Choosing-features-and-a-target)\n",
    "\t* [Conventional names and shapes](#Conventional-names-and-shapes)\n",
    "* [Train/test split](#Train/test-split)\n",
    "\t* [Choosing an algorithm: Decision Trees and Random Forests](#Choosing-an-algorithm:-Decision-Trees-and-Random-Forests)\n",
    "* [Feature importances](#Feature-importances)\n",
    "* [Cut points in a Decision Tree](#Cut-points-in-a-Decision-Tree)\n",
    "* [Quick comparison of many classifiers in scikit-learn](#Quick-comparison-of-many-classifiers-in-scikit-learn)\n",
    "* [Regression](#Regression)\n",
    "\t* [Sample datasets](#Sample-datasets)\n",
    "\t* [Boston Housing Prices](#Boston-Housing-Prices)\n",
    "\t* [Working with the example datasets](#Working-with-the-example-datasets)\n",
    "\t* [Comparing a gaggle of regressors](#Comparing-a-gaggle-of-regressors)\n",
    "* [Hyperparameters](#Hyperparameters)\n",
    "* [Grid Search](#Grid-Search)\n",
    "* [Clustering](#Clustering)\n",
    "* [Where to go next?](#Where-to-go-next?)\n"
   ]
  }
 ],
 "metadata": {
  "colab": {
   "name": "ML.ipynb",
   "provenance": [],
   "version": "0.3.2"
  },
  "kernelspec": {
   "display_name": "[anaconda50_py36] Python 3",
   "language": "python",
   "name": "anaconda-project-anaconda50_py36-python3"
  },
  "language_info": {
   "codemirror_mode": {
    "name": "ipython",
    "version": 3
   },
   "file_extension": ".py",
   "mimetype": "text/x-python",
   "name": "python",
   "nbconvert_exporter": "python",
   "pygments_lexer": "ipython3",
   "version": "3.6.3"
  }
 },
 "nbformat": 4,
 "nbformat_minor": 2
}
